{
 "cells": [
  {
   "cell_type": "code",
   "execution_count": 1,
   "id": "b2c7819b",
   "metadata": {},
   "outputs": [
    {
     "name": "stdout",
     "output_type": "stream",
     "text": [
      "D:\\Projects\\EpiTB\\tbdx23\n"
     ]
    }
   ],
   "source": [
    "%cd ../"
   ]
  },
  {
   "cell_type": "code",
   "execution_count": 2,
   "id": "81bc5795",
   "metadata": {},
   "outputs": [],
   "source": [
    "import os\n",
    "import pandas as pd\n",
    "import numpy as np\n",
    "from sim.core.cascade import RepoCascade\n",
    "from sim.core.inputs import load_inputs\n",
    "from sim.ind.dy import ModelIND, get_intv"
   ]
  },
  {
   "cell_type": "code",
   "execution_count": 3,
   "id": "e3f6857b",
   "metadata": {},
   "outputs": [],
   "source": [
    "iso = 'IND'\n",
    "in_folder = f'results/B_{iso}'\n",
    "out_folder = f'results/I_{iso}'"
   ]
  },
  {
   "cell_type": "code",
   "execution_count": 4,
   "id": "24f791f3",
   "metadata": {},
   "outputs": [],
   "source": [
    "os.makedirs(out_folder, exist_ok=True)"
   ]
  },
  {
   "cell_type": "code",
   "execution_count": 5,
   "id": "52ecc429",
   "metadata": {},
   "outputs": [],
   "source": [
    "pars_cs = pd.read_csv(f'results/pars_{iso}.csv')\n",
    "repo_cs = RepoCascade(pars_cs, 2010)\n",
    "\n",
    "inp = load_inputs(f'data/pars/{iso}')\n",
    "model = ModelIND(inp)"
   ]
  },
  {
   "cell_type": "code",
   "execution_count": 6,
   "id": "8ddc8583",
   "metadata": {},
   "outputs": [],
   "source": [
    "particles = pd.read_csv(f'{in_folder}/Post.csv')\n",
    "particles = [dict(row) for _, row in particles.iterrows()]\n",
    "\n",
    "particles = particles[:10]"
   ]
  },
  {
   "cell_type": "code",
   "execution_count": 12,
   "id": "a49d3f3a",
   "metadata": {},
   "outputs": [],
   "source": [
    "baseline = list()\n",
    "for i, p in enumerate(particles):\n",
    "    p['cas'] = repo_cs.sample()\n",
    "    ys, ms, _ = model.simulate_to_fit(p, t_eval=np.linspace(2015, 2022, 8))\n",
    "    baseline.append((p, ys, ms.assign(Key = i, Scenario = 'Baseline')))"
   ]
  },
  {
   "cell_type": "code",
   "execution_count": 14,
   "id": "14521f38",
   "metadata": {},
   "outputs": [],
   "source": [
    "scs = {\n",
    "    'Pub90': lambda p: get_intv(p, pdx0_pub=0.9, pdx1_pub=0.9),\n",
    "    'PubEng90': lambda p: get_intv(p, pdx0_pub=0.9, pdx1_pub=0.9, pdx0_eng=0.9, pdx1_eng=0.9),\n",
    "    'RedDelay2': lambda p: get_intv(p, rd_csi=2, rd_recsi=2),\n",
    "    'ACF2': lambda p: get_intv(p, rr_csi=2, rr_recsi=2)\n",
    "}"
   ]
  },
  {
   "cell_type": "code",
   "execution_count": 15,
   "id": "b8ff0e34",
   "metadata": {},
   "outputs": [],
   "source": [
    "intvs = list()\n",
    "\n",
    "for i, (p, ys, _) in enumerate(baseline):\n",
    "    _, ms0, _ = model.simulate_intv(p, ys)\n",
    "    intvs.append(ms0.assign(Key = i, Scenario = 'Baseline'))\n",
    "    \n",
    "    for k, sc in scs.items():\n",
    "        intv = sc(p)\n",
    "        _, ms1, _ = model.simulate_intv(p, ys, intv)\n",
    "        intvs.append(ms0.assign(Key = i, Scenario = k))\n",
    "\n",
    "intvs = pd.concat(intvs)"
   ]
  },
  {
   "cell_type": "code",
   "execution_count": 17,
   "id": "5a0f8ef6",
   "metadata": {},
   "outputs": [],
   "source": [
    "mss0 = [ms for (_, _, ms) in baseline]\n",
    "mss0 = pd.concat(mss0)\n",
    "mss0.to_csv(f'{out_folder}/RunBaseline.csv')"
   ]
  },
  {
   "cell_type": "code",
   "execution_count": 18,
   "id": "9e33aa46",
   "metadata": {},
   "outputs": [],
   "source": [
    "intvs.to_csv(f'{out_folder}/RunIntv.csv')"
   ]
  },
  {
   "cell_type": "code",
   "execution_count": null,
   "id": "b682ae83",
   "metadata": {},
   "outputs": [],
   "source": []
  }
 ],
 "metadata": {
  "kernelspec": {
   "display_name": "Python 3 (ipykernel)",
   "language": "python",
   "name": "python3"
  },
  "language_info": {
   "codemirror_mode": {
    "name": "ipython",
    "version": 3
   },
   "file_extension": ".py",
   "mimetype": "text/x-python",
   "name": "python",
   "nbconvert_exporter": "python",
   "pygments_lexer": "ipython3",
   "version": "3.9.5"
  }
 },
 "nbformat": 4,
 "nbformat_minor": 5
}
