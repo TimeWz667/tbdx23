{
 "cells": [
  {
   "cell_type": "code",
   "execution_count": 1,
   "id": "56cf340c",
   "metadata": {},
   "outputs": [
    {
     "name": "stdout",
     "output_type": "stream",
     "text": [
      "D:\\Source\\tbdx23\n"
     ]
    }
   ],
   "source": [
    "%cd ../"
   ]
  },
  {
   "cell_type": "code",
   "execution_count": 2,
   "id": "b735ed06",
   "metadata": {},
   "outputs": [],
   "source": [
    "import os\n",
    "import pandas as pd\n",
    "import numpy as np\n",
    "from scipy.optimize import minimize_scalar\n",
    "from sim.core.cascade import RepoCascade\n",
    "from sim.core.inputs import load_inputs\n",
    "from sim.zaf.dy import ModelZAF"
   ]
  },
  {
   "cell_type": "code",
   "execution_count": 3,
   "id": "e39016cc",
   "metadata": {},
   "outputs": [],
   "source": [
    "iso = 'ZAF'\n",
    "\n",
    "in_folder = f'results/A_{iso}'\n",
    "out_folder = f'results/B_{iso}'"
   ]
  },
  {
   "cell_type": "code",
   "execution_count": 4,
   "id": "1c6538a6",
   "metadata": {},
   "outputs": [],
   "source": [
    "os.makedirs(out_folder, exist_ok=True)"
   ]
  },
  {
   "cell_type": "code",
   "execution_count": 5,
   "id": "0b9c23ad",
   "metadata": {},
   "outputs": [],
   "source": [
    "pars_cs = pd.read_csv(f'results/pars_{iso}.csv')\n",
    "repo_cs = RepoCascade(pars_cs, 2010)\n",
    "\n",
    "inp = load_inputs(f'data/pars/{iso}')\n",
    "model = ModelZAF(inp)"
   ]
  },
  {
   "cell_type": "code",
   "execution_count": 6,
   "id": "3d467cef",
   "metadata": {},
   "outputs": [
    {
     "data": {
      "text/html": [
       "<div>\n",
       "<style scoped>\n",
       "    .dataframe tbody tr th:only-of-type {\n",
       "        vertical-align: middle;\n",
       "    }\n",
       "\n",
       "    .dataframe tbody tr th {\n",
       "        vertical-align: top;\n",
       "    }\n",
       "\n",
       "    .dataframe thead th {\n",
       "        text-align: right;\n",
       "    }\n",
       "</style>\n",
       "<table border=\"1\" class=\"dataframe\">\n",
       "  <thead>\n",
       "    <tr style=\"text-align: right;\">\n",
       "      <th></th>\n",
       "      <th>iso</th>\n",
       "      <th>Country</th>\n",
       "      <th>Year</th>\n",
       "      <th>q</th>\n",
       "      <th>QCNR</th>\n",
       "    </tr>\n",
       "    <tr>\n",
       "      <th>Time</th>\n",
       "      <th></th>\n",
       "      <th></th>\n",
       "      <th></th>\n",
       "      <th></th>\n",
       "      <th></th>\n",
       "    </tr>\n",
       "  </thead>\n",
       "  <tbody>\n",
       "    <tr>\n",
       "      <th>2020.125</th>\n",
       "      <td>ZAF</td>\n",
       "      <td>South Africa</td>\n",
       "      <td>2020</td>\n",
       "      <td>1</td>\n",
       "      <td>0.001061</td>\n",
       "    </tr>\n",
       "    <tr>\n",
       "      <th>2020.375</th>\n",
       "      <td>ZAF</td>\n",
       "      <td>South Africa</td>\n",
       "      <td>2020</td>\n",
       "      <td>2</td>\n",
       "      <td>0.000647</td>\n",
       "    </tr>\n",
       "    <tr>\n",
       "      <th>2020.625</th>\n",
       "      <td>ZAF</td>\n",
       "      <td>South Africa</td>\n",
       "      <td>2020</td>\n",
       "      <td>3</td>\n",
       "      <td>0.000689</td>\n",
       "    </tr>\n",
       "    <tr>\n",
       "      <th>2020.875</th>\n",
       "      <td>ZAF</td>\n",
       "      <td>South Africa</td>\n",
       "      <td>2020</td>\n",
       "      <td>4</td>\n",
       "      <td>0.000809</td>\n",
       "    </tr>\n",
       "    <tr>\n",
       "      <th>2021.125</th>\n",
       "      <td>ZAF</td>\n",
       "      <td>South Africa</td>\n",
       "      <td>2021</td>\n",
       "      <td>1</td>\n",
       "      <td>0.000918</td>\n",
       "    </tr>\n",
       "    <tr>\n",
       "      <th>2021.375</th>\n",
       "      <td>ZAF</td>\n",
       "      <td>South Africa</td>\n",
       "      <td>2021</td>\n",
       "      <td>2</td>\n",
       "      <td>0.000556</td>\n",
       "    </tr>\n",
       "    <tr>\n",
       "      <th>2021.625</th>\n",
       "      <td>ZAF</td>\n",
       "      <td>South Africa</td>\n",
       "      <td>2021</td>\n",
       "      <td>3</td>\n",
       "      <td>0.000598</td>\n",
       "    </tr>\n",
       "    <tr>\n",
       "      <th>2021.875</th>\n",
       "      <td>ZAF</td>\n",
       "      <td>South Africa</td>\n",
       "      <td>2021</td>\n",
       "      <td>4</td>\n",
       "      <td>0.000720</td>\n",
       "    </tr>\n",
       "  </tbody>\n",
       "</table>\n",
       "</div>"
      ],
      "text/plain": [
       "          iso       Country  Year  q      QCNR\n",
       "Time                                          \n",
       "2020.125  ZAF  South Africa  2020  1  0.001061\n",
       "2020.375  ZAF  South Africa  2020  2  0.000647\n",
       "2020.625  ZAF  South Africa  2020  3  0.000689\n",
       "2020.875  ZAF  South Africa  2020  4  0.000809\n",
       "2021.125  ZAF  South Africa  2021  1  0.000918\n",
       "2021.375  ZAF  South Africa  2021  2  0.000556\n",
       "2021.625  ZAF  South Africa  2021  3  0.000598\n",
       "2021.875  ZAF  South Africa  2021  4  0.000720"
      ]
     },
     "execution_count": 6,
     "metadata": {},
     "output_type": "execute_result"
    }
   ],
   "source": [
    "tarq = pd.read_csv(f'data/pars/{iso}/targets_q.csv').set_index('Time')\n",
    "tarq"
   ]
  },
  {
   "cell_type": "code",
   "execution_count": 7,
   "id": "bb3babc4",
   "metadata": {},
   "outputs": [],
   "source": [
    "particles = pd.read_csv(f'{in_folder}/Post.csv')\n",
    "particles = [dict(row) for _, row in particles.iterrows()]\n",
    "for p in particles:\n",
    "    p['cas'] = repo_cs.sample()"
   ]
  },
  {
   "cell_type": "code",
   "execution_count": 8,
   "id": "37ac2ea5",
   "metadata": {},
   "outputs": [],
   "source": [
    "ts = list(tarq.index)\n",
    "ts += [ts[-1] + 1 / 4]\n",
    "ts = np.array(ts)"
   ]
  },
  {
   "cell_type": "code",
   "execution_count": 9,
   "id": "3fb8381d",
   "metadata": {},
   "outputs": [],
   "source": [
    "sims = list()\n",
    "for p in particles:\n",
    "    p['cas'] = repo_cs.sample()\n",
    "    \n",
    "    ys, _, _ = model.simulate_to_preCOVID(p)\n",
    "    sims.append((p, ys))\n"
   ]
  },
  {
   "cell_type": "code",
   "execution_count": 10,
   "id": "eed57389",
   "metadata": {},
   "outputs": [],
   "source": [
    "def fn(k, sims, tarq):\n",
    "    ts = list(tarq.index)\n",
    "    ts += [ts[-1] + 1 / 4]\n",
    "    ts = np.array(ts)\n",
    "    \n",
    "    ds = list()\n",
    "    \n",
    "    for p, ys in sims:\n",
    "        p['k_covid'] = k\n",
    "        _, ms, _ = model.simulate_to_postCOVID(p, ys, t_eval=ts)\n",
    "        d = (tarq.QCNR - ms.CNR).pow(2).sum()\n",
    "        ds.append(d)\n",
    "        \n",
    "    return sum(ds)\n"
   ]
  },
  {
   "cell_type": "code",
   "execution_count": 11,
   "id": "f66e5895",
   "metadata": {},
   "outputs": [],
   "source": [
    "opt = minimize_scalar(fn, bounds=[0.1, 1], args=(sims, tarq, ), method='bounded')"
   ]
  },
  {
   "cell_type": "code",
   "execution_count": 12,
   "id": "672dc80a",
   "metadata": {},
   "outputs": [
    {
     "data": {
      "text/plain": [
       "     fun: 0.00010940476512064838\n",
       " message: 'Solution found.'\n",
       "    nfev: 21\n",
       "  status: 0\n",
       " success: True\n",
       "       x: 0.9977063502687685"
      ]
     },
     "execution_count": 12,
     "metadata": {},
     "output_type": "execute_result"
    }
   ],
   "source": [
    "opt"
   ]
  },
  {
   "cell_type": "code",
   "execution_count": 13,
   "id": "cd5f4735",
   "metadata": {},
   "outputs": [],
   "source": [
    "k = opt.x\n",
    "mss = list()\n",
    "\n",
    "for i, (p, ys) in enumerate(sims):\n",
    "    p['k_covid'] = k\n",
    "    _, ms, _ = model.simulate_to_postCOVID(p, ys, t_eval=ts)\n",
    "    mss.append(ms.assign(Key = i))\n",
    "    \n",
    "mss = pd.concat(mss)"
   ]
  },
  {
   "cell_type": "code",
   "execution_count": 14,
   "id": "3d641ef7",
   "metadata": {},
   "outputs": [],
   "source": [
    "mss.to_csv(f'{out_folder}/RunPost.csv')"
   ]
  },
  {
   "cell_type": "code",
   "execution_count": 15,
   "id": "66f426a5",
   "metadata": {},
   "outputs": [],
   "source": [
    "pss = pd.DataFrame([p for p, _ in sims])\n",
    "pss.to_csv(f'{out_folder}/Post.csv')"
   ]
  },
  {
   "cell_type": "code",
   "execution_count": null,
   "id": "eb257326",
   "metadata": {},
   "outputs": [],
   "source": []
  }
 ],
 "metadata": {
  "kernelspec": {
   "display_name": "Python 3",
   "language": "python",
   "name": "python3"
  },
  "language_info": {
   "codemirror_mode": {
    "name": "ipython",
    "version": 3
   },
   "file_extension": ".py",
   "mimetype": "text/x-python",
   "name": "python",
   "nbconvert_exporter": "python",
   "pygments_lexer": "ipython3",
   "version": "3.9.6"
  }
 },
 "nbformat": 4,
 "nbformat_minor": 5
}
