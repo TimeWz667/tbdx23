{
 "cells": [
  {
   "cell_type": "code",
   "execution_count": 1,
   "id": "56cf340c",
   "metadata": {},
   "outputs": [
    {
     "name": "stdout",
     "output_type": "stream",
     "text": [
      "D:\\Source\\tbdx23\n"
     ]
    }
   ],
   "source": [
    "%cd ../"
   ]
  },
  {
   "cell_type": "code",
   "execution_count": 2,
   "id": "b735ed06",
   "metadata": {},
   "outputs": [],
   "source": [
    "import os\n",
    "import pandas as pd\n",
    "import numpy as np\n",
    "from scipy.optimize import minimize\n",
    "from sim.core.cascade import RepoCascade\n",
    "from sim.core.inputs import load_inputs\n",
    "from scipy.optimize import minimize_scalar\n",
    "from sim.zaf.dhiv import ModelHIV\n",
    "from scipy.interpolate import interp1d"
   ]
  },
  {
   "cell_type": "code",
   "execution_count": 3,
   "id": "e39016cc",
   "metadata": {},
   "outputs": [],
   "source": [
    "iso = 'ZAF'\n",
    "\n",
    "in_folder = f'results/C_{iso}'\n",
    "out_folder = f'results/D_{iso}'"
   ]
  },
  {
   "cell_type": "code",
   "execution_count": 4,
   "id": "1c6538a6",
   "metadata": {},
   "outputs": [],
   "source": [
    "os.makedirs(out_folder, exist_ok=True)"
   ]
  },
  {
   "cell_type": "code",
   "execution_count": 5,
   "id": "0b9c23ad",
   "metadata": {},
   "outputs": [],
   "source": [
    "pars_cs = pd.read_csv(f'results/pars_{iso}.csv')\n",
    "repo_cs = RepoCascade(pars_cs, 2010)\n",
    "\n",
    "inp = load_inputs(f'data/pars/{iso}')\n",
    "model = ModelHIV(inp)"
   ]
  },
  {
   "cell_type": "code",
   "execution_count": 6,
   "id": "3d467cef",
   "metadata": {},
   "outputs": [
    {
     "data": {
      "text/html": [
       "<div>\n",
       "<style scoped>\n",
       "    .dataframe tbody tr th:only-of-type {\n",
       "        vertical-align: middle;\n",
       "    }\n",
       "\n",
       "    .dataframe tbody tr th {\n",
       "        vertical-align: top;\n",
       "    }\n",
       "\n",
       "    .dataframe thead th {\n",
       "        text-align: right;\n",
       "    }\n",
       "</style>\n",
       "<table border=\"1\" class=\"dataframe\">\n",
       "  <thead>\n",
       "    <tr style=\"text-align: right;\">\n",
       "      <th></th>\n",
       "      <th>iso</th>\n",
       "      <th>Country</th>\n",
       "      <th>Year</th>\n",
       "      <th>q</th>\n",
       "      <th>QCNR</th>\n",
       "    </tr>\n",
       "    <tr>\n",
       "      <th>Time</th>\n",
       "      <th></th>\n",
       "      <th></th>\n",
       "      <th></th>\n",
       "      <th></th>\n",
       "      <th></th>\n",
       "    </tr>\n",
       "  </thead>\n",
       "  <tbody>\n",
       "    <tr>\n",
       "      <th>2020.125</th>\n",
       "      <td>ZAF</td>\n",
       "      <td>South Africa</td>\n",
       "      <td>2020</td>\n",
       "      <td>1</td>\n",
       "      <td>0.001061</td>\n",
       "    </tr>\n",
       "    <tr>\n",
       "      <th>2020.375</th>\n",
       "      <td>ZAF</td>\n",
       "      <td>South Africa</td>\n",
       "      <td>2020</td>\n",
       "      <td>2</td>\n",
       "      <td>0.000647</td>\n",
       "    </tr>\n",
       "    <tr>\n",
       "      <th>2020.625</th>\n",
       "      <td>ZAF</td>\n",
       "      <td>South Africa</td>\n",
       "      <td>2020</td>\n",
       "      <td>3</td>\n",
       "      <td>0.000689</td>\n",
       "    </tr>\n",
       "    <tr>\n",
       "      <th>2020.875</th>\n",
       "      <td>ZAF</td>\n",
       "      <td>South Africa</td>\n",
       "      <td>2020</td>\n",
       "      <td>4</td>\n",
       "      <td>0.000809</td>\n",
       "    </tr>\n",
       "    <tr>\n",
       "      <th>2021.125</th>\n",
       "      <td>ZAF</td>\n",
       "      <td>South Africa</td>\n",
       "      <td>2021</td>\n",
       "      <td>1</td>\n",
       "      <td>0.000918</td>\n",
       "    </tr>\n",
       "    <tr>\n",
       "      <th>2021.375</th>\n",
       "      <td>ZAF</td>\n",
       "      <td>South Africa</td>\n",
       "      <td>2021</td>\n",
       "      <td>2</td>\n",
       "      <td>0.000556</td>\n",
       "    </tr>\n",
       "    <tr>\n",
       "      <th>2021.625</th>\n",
       "      <td>ZAF</td>\n",
       "      <td>South Africa</td>\n",
       "      <td>2021</td>\n",
       "      <td>3</td>\n",
       "      <td>0.000598</td>\n",
       "    </tr>\n",
       "    <tr>\n",
       "      <th>2021.875</th>\n",
       "      <td>ZAF</td>\n",
       "      <td>South Africa</td>\n",
       "      <td>2021</td>\n",
       "      <td>4</td>\n",
       "      <td>0.000720</td>\n",
       "    </tr>\n",
       "  </tbody>\n",
       "</table>\n",
       "</div>"
      ],
      "text/plain": [
       "          iso       Country  Year  q      QCNR\n",
       "Time                                          \n",
       "2020.125  ZAF  South Africa  2020  1  0.001061\n",
       "2020.375  ZAF  South Africa  2020  2  0.000647\n",
       "2020.625  ZAF  South Africa  2020  3  0.000689\n",
       "2020.875  ZAF  South Africa  2020  4  0.000809\n",
       "2021.125  ZAF  South Africa  2021  1  0.000918\n",
       "2021.375  ZAF  South Africa  2021  2  0.000556\n",
       "2021.625  ZAF  South Africa  2021  3  0.000598\n",
       "2021.875  ZAF  South Africa  2021  4  0.000720"
      ]
     },
     "execution_count": 6,
     "metadata": {},
     "output_type": "execute_result"
    }
   ],
   "source": [
    "tarq = pd.read_csv(f'data/pars/{iso}/targets_q.csv').set_index('Time')\n",
    "tarq"
   ]
  },
  {
   "cell_type": "code",
   "execution_count": 7,
   "id": "bb3babc4",
   "metadata": {},
   "outputs": [],
   "source": [
    "particles = pd.read_csv(f'{in_folder}/Post.csv')\n",
    "particles = [dict(row) for _, row in particles.iterrows()][:20]\n",
    "for p in particles:\n",
    "    p['cas'] = repo_cs.sample()\n",
    "    p['irr_art'] = 0.3"
   ]
  },
  {
   "cell_type": "code",
   "execution_count": null,
   "id": "37ac2ea5",
   "metadata": {},
   "outputs": [],
   "source": []
  },
  {
   "cell_type": "code",
   "execution_count": 8,
   "id": "3fb8381d",
   "metadata": {},
   "outputs": [],
   "source": [
    "sims = list()\n",
    "for p in particles:\n",
    "    p['cas'] = repo_cs.sample()\n",
    "    \n",
    "    ys, _, _ = model.simulate_to_preCOVID(p)\n",
    "    sims.append((p, ys))\n"
   ]
  },
  {
   "cell_type": "code",
   "execution_count": 9,
   "id": "eed57389",
   "metadata": {},
   "outputs": [],
   "source": [
    "def fn(k, sims, tarq, t0, i0, t_in, y_in0):\n",
    "    y_in0 = y_in0.copy()\n",
    "    y_in0[i0] = k\n",
    "    k_covid = interp1d(t_in, y_in0, kind='nearest', bounds_error=False, fill_value=1)\n",
    "\n",
    "    ds = list()\n",
    "\n",
    "    for p, ys in sims:\n",
    "        p['k_covid'] = k_covid\n",
    "        _, ms, _ = model.simulate_to_postCOVID(p, ys, t_eval=np.array([t0 - 1/8, t0 + 1/8]))\n",
    "        d = (tarq.QCNR[t0] / ms.CNR - 1).pow(2).sum()\n",
    "        ds.append(d)\n",
    "\n",
    "    return sum(ds)\n"
   ]
  },
  {
   "cell_type": "code",
   "execution_count": 10,
   "id": "f66e5895",
   "metadata": {},
   "outputs": [
    {
     "name": "stdout",
     "output_type": "stream",
     "text": [
      "2020.375 2 1.4212171714510384\n",
      "2020.625 3 1.8972584668536367\n",
      "2020.875 4 3.574474867150882\n",
      "2021.125 5 4.999993745586689\n",
      "2021.375 6 4.998356127027397\n",
      "2021.625 7 4.999993411636527\n",
      "2021.875 8 4.551474494968612\n"
     ]
    }
   ],
   "source": [
    "ts = list(tarq.index)\n",
    "p, ys = sims[1]\n",
    "\n",
    "t_in = np.array([2019.875] + ts)\n",
    "y_in = np.ones_like(t_in)\n",
    "\n",
    "sims0 = sims\n",
    "\n",
    "for i, t in enumerate(t_in[2:], 2):\n",
    "    if t > 2022:\n",
    "        continue\n",
    "    \n",
    "    opt = minimize_scalar(fn, args=(sims0, tarq, t, i, t_in, y_in, ), method='bounded', bounds=[0.2, 5])\n",
    "    \n",
    "    # Update k_covid\n",
    "    y_in[i] = opt.x\n",
    "    k_covid = interp1d(t_in, y_in, kind='nearest', bounds_error=False, fill_value=1)\n",
    "\n",
    "    sims1 = list()\n",
    "    print(t, i, opt.x)\n",
    "    for p, ys in sims0:\n",
    "        p['k_covid'] = k_covid\n",
    "        ys1, _, _ = model.simulate_to_postCOVID(p, ys, t_eval=np.array([t - 1/8, t + 1/8]))\n",
    "        sims1.append((p, ys1))\n",
    "\n",
    "    sims0 = sims1"
   ]
  },
  {
   "cell_type": "code",
   "execution_count": 11,
   "id": "672dc80a",
   "metadata": {},
   "outputs": [],
   "source": [
    "ts = list(tarq.index)\n",
    "ts += [ts[-1] + 1 / 4]\n",
    "ts = np.array(ts)\n",
    "\n",
    "k_covid = interp1d(t_in, y_in, kind='nearest', bounds_error=False, fill_value=1)\n",
    "\n",
    "mss = list()\n",
    "\n",
    "for i, (p, ys) in enumerate(sims):\n",
    "    p['k_covid'] = k_covid\n",
    "    _, ms, _ = model.simulate_to_postCOVID(p, ys, t_eval=ts)\n",
    "    mss.append(ms.assign(Key = i))\n",
    "\n",
    "mss = pd.concat(mss)"
   ]
  },
  {
   "cell_type": "code",
   "execution_count": 12,
   "id": "cd5f4735",
   "metadata": {},
   "outputs": [],
   "source": [
    "pd.DataFrame({'Time': t_in, 'k_covid': y_in}).to_csv(f'{out_folder}/k_covid.csv')"
   ]
  },
  {
   "cell_type": "code",
   "execution_count": 13,
   "id": "3d641ef7",
   "metadata": {},
   "outputs": [],
   "source": [
    "mss.to_csv(f'{out_folder}/RunPost.csv')"
   ]
  },
  {
   "cell_type": "code",
   "execution_count": 14,
   "id": "66f426a5",
   "metadata": {},
   "outputs": [],
   "source": [
    "pss = pd.DataFrame([p for p, _ in sims])\n",
    "pss.to_csv(f'{out_folder}/Post.csv')"
   ]
  },
  {
   "cell_type": "code",
   "execution_count": null,
   "id": "eb257326",
   "metadata": {},
   "outputs": [],
   "source": []
  }
 ],
 "metadata": {
  "kernelspec": {
   "display_name": "Python 3",
   "language": "python",
   "name": "python3"
  },
  "language_info": {
   "codemirror_mode": {
    "name": "ipython",
    "version": 3
   },
   "file_extension": ".py",
   "mimetype": "text/x-python",
   "name": "python",
   "nbconvert_exporter": "python",
   "pygments_lexer": "ipython3",
   "version": "3.9.6"
  }
 },
 "nbformat": 4,
 "nbformat_minor": 5
}
