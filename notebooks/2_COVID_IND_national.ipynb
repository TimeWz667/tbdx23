{
 "cells": [
  {
   "cell_type": "code",
   "execution_count": 1,
   "id": "89b6d381",
   "metadata": {},
   "outputs": [
    {
     "name": "stdout",
     "output_type": "stream",
     "text": [
      "D:\\Projects\\EpiTB\\tbdx23\n"
     ]
    }
   ],
   "source": [
    "%cd ../"
   ]
  },
  {
   "cell_type": "code",
   "execution_count": 2,
   "id": "4b959e4a",
   "metadata": {},
   "outputs": [],
   "source": [
    "import os\n",
    "import pandas as pd\n",
    "import numpy as np\n",
    "from sim.core.cascade import RepoCascade\n",
    "from sim.core.inputs import load_inputs\n",
    "from sim.ind.dy import ModelIND\n",
    "from scipy.optimize import minimize_scalar\n",
    "from scipy.interpolate import interp1d"
   ]
  },
  {
   "cell_type": "code",
   "execution_count": 3,
   "id": "2f7c3693",
   "metadata": {},
   "outputs": [],
   "source": [
    "iso = 'IND'\n",
    "in_folder = f'results/A_{iso}'\n",
    "out_folder = f'results/B_{iso}'"
   ]
  },
  {
   "cell_type": "code",
   "execution_count": 4,
   "id": "e092f180",
   "metadata": {},
   "outputs": [],
   "source": [
    "os.makedirs(out_folder, exist_ok=True)"
   ]
  },
  {
   "cell_type": "code",
   "execution_count": 5,
   "id": "573e2493",
   "metadata": {},
   "outputs": [],
   "source": [
    "pars_cs = pd.read_csv(f'results/pars_{iso}.csv')\n",
    "repo_cs = RepoCascade(pars_cs, 2010)\n",
    "\n",
    "inp = load_inputs(f'data/pars/{iso}')\n",
    "model = ModelIND(inp)"
   ]
  },
  {
   "cell_type": "code",
   "execution_count": 6,
   "id": "a913253d",
   "metadata": {},
   "outputs": [
    {
     "data": {
      "text/html": [
       "<div>\n",
       "<style scoped>\n",
       "    .dataframe tbody tr th:only-of-type {\n",
       "        vertical-align: middle;\n",
       "    }\n",
       "\n",
       "    .dataframe tbody tr th {\n",
       "        vertical-align: top;\n",
       "    }\n",
       "\n",
       "    .dataframe thead th {\n",
       "        text-align: right;\n",
       "    }\n",
       "</style>\n",
       "<table border=\"1\" class=\"dataframe\">\n",
       "  <thead>\n",
       "    <tr style=\"text-align: right;\">\n",
       "      <th></th>\n",
       "      <th>iso</th>\n",
       "      <th>Country</th>\n",
       "      <th>Year</th>\n",
       "      <th>q</th>\n",
       "      <th>QCNR</th>\n",
       "    </tr>\n",
       "    <tr>\n",
       "      <th>Time</th>\n",
       "      <th></th>\n",
       "      <th></th>\n",
       "      <th></th>\n",
       "      <th></th>\n",
       "      <th></th>\n",
       "    </tr>\n",
       "  </thead>\n",
       "  <tbody>\n",
       "    <tr>\n",
       "      <th>2020.125</th>\n",
       "      <td>IND</td>\n",
       "      <td>India</td>\n",
       "      <td>2020</td>\n",
       "      <td>1</td>\n",
       "      <td>0.000378</td>\n",
       "    </tr>\n",
       "    <tr>\n",
       "      <th>2020.375</th>\n",
       "      <td>IND</td>\n",
       "      <td>India</td>\n",
       "      <td>2020</td>\n",
       "      <td>2</td>\n",
       "      <td>0.000236</td>\n",
       "    </tr>\n",
       "    <tr>\n",
       "      <th>2020.625</th>\n",
       "      <td>IND</td>\n",
       "      <td>India</td>\n",
       "      <td>2020</td>\n",
       "      <td>3</td>\n",
       "      <td>0.000260</td>\n",
       "    </tr>\n",
       "    <tr>\n",
       "      <th>2020.875</th>\n",
       "      <td>IND</td>\n",
       "      <td>India</td>\n",
       "      <td>2020</td>\n",
       "      <td>4</td>\n",
       "      <td>0.000295</td>\n",
       "    </tr>\n",
       "    <tr>\n",
       "      <th>2021.125</th>\n",
       "      <td>IND</td>\n",
       "      <td>India</td>\n",
       "      <td>2021</td>\n",
       "      <td>1</td>\n",
       "      <td>0.000372</td>\n",
       "    </tr>\n",
       "    <tr>\n",
       "      <th>2021.375</th>\n",
       "      <td>IND</td>\n",
       "      <td>India</td>\n",
       "      <td>2021</td>\n",
       "      <td>2</td>\n",
       "      <td>0.000262</td>\n",
       "    </tr>\n",
       "    <tr>\n",
       "      <th>2021.625</th>\n",
       "      <td>IND</td>\n",
       "      <td>India</td>\n",
       "      <td>2021</td>\n",
       "      <td>3</td>\n",
       "      <td>0.000398</td>\n",
       "    </tr>\n",
       "    <tr>\n",
       "      <th>2021.875</th>\n",
       "      <td>IND</td>\n",
       "      <td>India</td>\n",
       "      <td>2021</td>\n",
       "      <td>4</td>\n",
       "      <td>0.000350</td>\n",
       "    </tr>\n",
       "    <tr>\n",
       "      <th>2022.125</th>\n",
       "      <td>IND</td>\n",
       "      <td>India</td>\n",
       "      <td>2022</td>\n",
       "      <td>1</td>\n",
       "      <td>0.000379</td>\n",
       "    </tr>\n",
       "    <tr>\n",
       "      <th>2022.375</th>\n",
       "      <td>IND</td>\n",
       "      <td>India</td>\n",
       "      <td>2022</td>\n",
       "      <td>2</td>\n",
       "      <td>0.000439</td>\n",
       "    </tr>\n",
       "    <tr>\n",
       "      <th>2022.625</th>\n",
       "      <td>IND</td>\n",
       "      <td>India</td>\n",
       "      <td>2022</td>\n",
       "      <td>3</td>\n",
       "      <td>0.000387</td>\n",
       "    </tr>\n",
       "  </tbody>\n",
       "</table>\n",
       "</div>"
      ],
      "text/plain": [
       "          iso Country  Year  q      QCNR\n",
       "Time                                    \n",
       "2020.125  IND   India  2020  1  0.000378\n",
       "2020.375  IND   India  2020  2  0.000236\n",
       "2020.625  IND   India  2020  3  0.000260\n",
       "2020.875  IND   India  2020  4  0.000295\n",
       "2021.125  IND   India  2021  1  0.000372\n",
       "2021.375  IND   India  2021  2  0.000262\n",
       "2021.625  IND   India  2021  3  0.000398\n",
       "2021.875  IND   India  2021  4  0.000350\n",
       "2022.125  IND   India  2022  1  0.000379\n",
       "2022.375  IND   India  2022  2  0.000439\n",
       "2022.625  IND   India  2022  3  0.000387"
      ]
     },
     "execution_count": 6,
     "metadata": {},
     "output_type": "execute_result"
    }
   ],
   "source": [
    "tarq = pd.read_csv(f'data/pars/{iso}/targets_q.csv').set_index('Time')\n",
    "tarq"
   ]
  },
  {
   "cell_type": "code",
   "execution_count": 7,
   "id": "4165027c",
   "metadata": {},
   "outputs": [],
   "source": [
    "particles = pd.read_csv(f'{in_folder}/Post.csv')\n",
    "particles = [dict(row) for _, row in particles.iterrows()]\n",
    "\n",
    "sims = list()\n",
    "for p in particles:\n",
    "    p['cas'] = repo_cs.sample()\n",
    "    ys, _, _ = model.simulate_to_preCOVID(p)\n",
    "    sims.append((p, ys))"
   ]
  },
  {
   "cell_type": "code",
   "execution_count": 8,
   "id": "2723e4b3",
   "metadata": {},
   "outputs": [],
   "source": [
    "def fn(k, sims, tarq, t0, i0, t_in, y_in0):\n",
    "    y_in0 = y_in0.copy()\n",
    "    y_in0[i0] = k\n",
    "    k_covid = interp1d(t_in, y_in0, kind='nearest', bounds_error=False, fill_value=1)\n",
    "\n",
    "    ds = list()\n",
    "\n",
    "    for p, ys in sims:\n",
    "        p['k_covid'] = k_covid\n",
    "        _, ms, _ = model.simulate_to_postCOVID(p, ys, t_eval=np.array([t0 - 1/8, t0 + 1/8]))\n",
    "        d = (tarq.QCNR[t0] / ms.CNR - 1).pow(2).sum()\n",
    "        ds.append(d)\n",
    "\n",
    "    return sum(ds)"
   ]
  },
  {
   "cell_type": "code",
   "execution_count": 9,
   "id": "8650f0b2",
   "metadata": {},
   "outputs": [
    {
     "name": "stdout",
     "output_type": "stream",
     "text": [
      "2020.375 2 0.4883501369780485\n",
      "2020.625 3 0.5308084750307576\n",
      "2020.875 4 0.5424521228049729\n",
      "2021.125 5 0.6449056102247194\n",
      "2021.375 6 0.4166206843668154\n",
      "2021.625 7 0.61275195134622\n",
      "2021.875 8 0.5164845082850256\n",
      "2022.125 9 0.54491722239426\n",
      "2022.375 10 0.6259208165369274\n",
      "2022.625 11 0.26286789554251333\n"
     ]
    }
   ],
   "source": [
    "ts = list(tarq.index)\n",
    "p, ys = sims[1]\n",
    "\n",
    "t_in = np.array([2019.875] + ts)\n",
    "y_in = np.ones_like(t_in)\n",
    "\n",
    "sims0 = sims[:50]\n",
    "\n",
    "for i, t in enumerate(t_in[2:], 2):\n",
    "#     if t > 2022:\n",
    "#         continue\n",
    "    \n",
    "    opt = minimize_scalar(fn, args=(sims0, tarq, t, i, t_in, y_in, ), method='bounded', bounds=[0.2, 1.5])\n",
    "    \n",
    "    # Update k_covid\n",
    "    y_in[i] = opt.x\n",
    "    k_covid = interp1d(t_in, y_in, kind='nearest', bounds_error=False, fill_value=1)\n",
    "\n",
    "    sims1 = list()\n",
    "    print(t, i, opt.x)\n",
    "    for p, ys in sims0:\n",
    "        p['k_covid'] = k_covid\n",
    "        ys1, _, _ = model.simulate_to_postCOVID(p, ys, t_eval=np.array([t - 1/8, t + 1/8]))\n",
    "        sims1.append((p, ys1))\n",
    "\n",
    "    sims0 = sims1\n"
   ]
  },
  {
   "cell_type": "code",
   "execution_count": 10,
   "id": "95343c05",
   "metadata": {},
   "outputs": [],
   "source": [
    "ts = list(tarq.index)\n",
    "ts += [ts[-1] + 1 / 4]\n",
    "ts = np.array(ts)\n",
    "\n",
    "k_covid = interp1d(t_in, y_in, kind='nearest', bounds_error=False, fill_value=1)\n",
    "\n",
    "mss = list()\n",
    "\n",
    "for i, (p, ys) in enumerate(sims):\n",
    "    p['k_covid'] = k_covid\n",
    "    _, ms, _ = model.simulate_to_postCOVID(p, ys, t_eval=ts)\n",
    "    mss.append(ms.assign(Key = i))\n",
    "\n",
    "mss = pd.concat(mss)"
   ]
  },
  {
   "cell_type": "code",
   "execution_count": 11,
   "id": "d258625d",
   "metadata": {},
   "outputs": [],
   "source": [
    "pd.DataFrame({'Time': t_in, 'k_covid': y_in}).to_csv(f'{out_folder}/k_covid.csv')"
   ]
  },
  {
   "cell_type": "code",
   "execution_count": 12,
   "id": "a92fb08c",
   "metadata": {},
   "outputs": [],
   "source": [
    "mss.to_csv(f'{out_folder}/RunPost.csv')"
   ]
  },
  {
   "cell_type": "code",
   "execution_count": 13,
   "id": "6f7f1882",
   "metadata": {},
   "outputs": [],
   "source": [
    "pss = pd.DataFrame([p for p, _ in sims])\n",
    "pss.to_csv(f'{out_folder}/Post.csv')"
   ]
  },
  {
   "cell_type": "code",
   "execution_count": null,
   "id": "4024b57c",
   "metadata": {},
   "outputs": [],
   "source": []
  }
 ],
 "metadata": {
  "kernelspec": {
   "display_name": "Python 3 (ipykernel)",
   "language": "python",
   "name": "python3"
  },
  "language_info": {
   "codemirror_mode": {
    "name": "ipython",
    "version": 3
   },
   "file_extension": ".py",
   "mimetype": "text/x-python",
   "name": "python",
   "nbconvert_exporter": "python",
   "pygments_lexer": "ipython3",
   "version": "3.9.5"
  }
 },
 "nbformat": 4,
 "nbformat_minor": 5
}