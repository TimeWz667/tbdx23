{
 "cells": [
  {
   "cell_type": "code",
   "execution_count": 1,
   "id": "06d5a912",
   "metadata": {},
   "outputs": [
    {
     "name": "stdout",
     "output_type": "stream",
     "text": [
      "D:\\Projects\\EpiTB\\tbdx23\n"
     ]
    }
   ],
   "source": [
    "%cd ../"
   ]
  },
  {
   "cell_type": "code",
   "execution_count": 2,
   "id": "6bd1ac44",
   "metadata": {},
   "outputs": [],
   "source": [
    "import os\n",
    "from model.ind.obj import *\n",
    "import pandas as pd\n",
    "from sims_pars.fitting import ApproxBayesComSMC, ApproxBayesCom"
   ]
  },
  {
   "cell_type": "code",
   "execution_count": 3,
   "id": "3e70b9ee",
   "metadata": {},
   "outputs": [],
   "source": [
    "out_folder = 'out/A_IND'"
   ]
  },
  {
   "cell_type": "code",
   "execution_count": 4,
   "id": "2b69abe9",
   "metadata": {},
   "outputs": [],
   "source": [
    "os.makedirs(out_folder, exist_ok=True)"
   ]
  },
  {
   "cell_type": "code",
   "execution_count": 5,
   "id": "6c9a705d",
   "metadata": {},
   "outputs": [
    {
     "name": "stdout",
     "output_type": "stream",
     "text": [
      "Domain(Name='rr_die_a', Type='Double', Lower=0.0, Upper=1.0)\n",
      "Domain(Name='beta', Type='Double', Lower=1.0, Upper=20.0)\n",
      "Domain(Name='rr_sus_slat', Type='Double', Lower=0.2, Upper=0.8)\n",
      "Domain(Name='rr_sus_rec', Type='Double', Lower=0.14, Upper=0.3)\n",
      "Domain(Name='r_onset', Type='Double', Lower=0.909, Upper=1.251)\n",
      "Domain(Name='p_primary', Type='Double', Lower=0.09, Upper=0.14)\n",
      "Domain(Name='r_clear', Type='Double', Lower=0.02, Upper=0.04)\n",
      "Domain(Name='r_sc', Type='Double', Lower=0.15, Upper=0.25)\n",
      "Domain(Name='r_react', Type='Double', Lower=0.0005, Upper=0.0015)\n",
      "Domain(Name='r_relapse', Type='Double', Lower=0.0011, Upper=0.002)\n",
      "Domain(Name='r_relapse_td', Type='Double', Lower=0.105, Upper=0.175)\n",
      "Domain(Name='r_relapse_tc', Type='Double', Lower=0.024, Upper=0.04)\n",
      "Domain(Name='r_csi', Type='Double', Lower=2.358, Upper=3.831)\n",
      "Domain(Name='r_recsi', Type='Double', Lower=1.0, Upper=15.0)\n",
      "Domain(Name='rt_cs', Type='Double', Lower=0.0, Upper=0.15)\n",
      "Domain(Name='ppv', Type='Double', Lower=0.5, Upper=0.9)\n"
     ]
    }
   ],
   "source": [
    "obj = Objective.load('pars/IND')\n",
    "\n",
    "for do in obj.Domain:\n",
    "    print(do)\n",
    "\n",
    "p0 = obj.sample_prior()\n",
    "sim = obj.simulate(p0)"
   ]
  },
  {
   "cell_type": "code",
   "execution_count": 6,
   "id": "88b293cd",
   "metadata": {},
   "outputs": [],
   "source": [
    "alg = ApproxBayesComSMC(n_collect = 500, max_round = 35)"
   ]
  },
  {
   "cell_type": "code",
   "execution_count": 7,
   "id": "60219910",
   "metadata": {},
   "outputs": [],
   "source": [
    "# alg = ApproxBayesCom(n_collect = 300)"
   ]
  },
  {
   "cell_type": "code",
   "execution_count": 8,
   "id": "c7873c70",
   "metadata": {
    "scrolled": true
   },
   "outputs": [
    {
     "name": "stderr",
     "output_type": "stream",
     "text": [
      "19-03-2023 00:55:38 INFO: Initialising\n",
      "[Parallel(n_jobs=4)]: Using backend LokyBackend with 4 concurrent workers.\n",
      "[Parallel(n_jobs=4)]: Done  10 tasks      | elapsed:    5.4s\n",
      "[Parallel(n_jobs=4)]: Done  64 tasks      | elapsed:   11.4s\n",
      "[Parallel(n_jobs=4)]: Done 154 tasks      | elapsed:   20.8s\n",
      "[Parallel(n_jobs=4)]: Done 200 out of 200 | elapsed:   25.4s finished\n",
      "19-03-2023 00:56:06 INFO: Step to 1\n",
      "19-03-2023 00:56:06 INFO: Round 0, ESS 200.00\n",
      "[Parallel(n_jobs=4)]: Using backend LokyBackend with 4 concurrent workers.\n",
      "[Parallel(n_jobs=4)]: Done  10 tasks      | elapsed:    1.5s\n",
      "[Parallel(n_jobs=4)]: Done  64 tasks      | elapsed:   11.8s\n",
      "[Parallel(n_jobs=4)]: Done 154 tasks      | elapsed:   29.5s\n",
      "[Parallel(n_jobs=4)]: Done 200 out of 200 | elapsed:   41.3s finished\n",
      "19-03-2023 00:56:50 INFO: Step to 2\n",
      "19-03-2023 00:56:50 INFO: Round 1, ESS 180, Epsilon 1554.8672, Acceptance 87.0%\n",
      "[Parallel(n_jobs=4)]: Using backend LokyBackend with 4 concurrent workers.\n",
      "[Parallel(n_jobs=4)]: Done  10 tasks      | elapsed:    2.3s\n",
      "[Parallel(n_jobs=4)]: Done  64 tasks      | elapsed:   14.5s\n",
      "[Parallel(n_jobs=4)]: Done 154 tasks      | elapsed:   34.3s\n",
      "[Parallel(n_jobs=4)]: Done 200 out of 200 | elapsed:   43.7s finished\n",
      "19-03-2023 00:57:36 INFO: Step to 3\n",
      "19-03-2023 00:57:36 INFO: Round 2, ESS 165, Epsilon 929.5583, Acceptance 88.0%\n",
      "[Parallel(n_jobs=4)]: Using backend LokyBackend with 4 concurrent workers.\n",
      "[Parallel(n_jobs=4)]: Done  10 tasks      | elapsed:    2.2s\n",
      "[Parallel(n_jobs=4)]: Done  64 tasks      | elapsed:   16.1s\n",
      "[Parallel(n_jobs=4)]: Done 154 tasks      | elapsed:   42.4s\n",
      "[Parallel(n_jobs=4)]: Done 200 out of 200 | elapsed:   55.6s finished\n",
      "19-03-2023 00:58:34 INFO: Step to 4\n",
      "19-03-2023 00:58:34 INFO: Round 3, ESS 148, Epsilon 592.9624, Acceptance 84.5%\n",
      "[Parallel(n_jobs=4)]: Using backend LokyBackend with 4 concurrent workers.\n",
      "[Parallel(n_jobs=4)]: Done  10 tasks      | elapsed:    1.9s\n",
      "[Parallel(n_jobs=4)]: Done  64 tasks      | elapsed:   15.2s\n",
      "[Parallel(n_jobs=4)]: Done 154 tasks      | elapsed:   40.6s\n",
      "[Parallel(n_jobs=4)]: Done 200 out of 200 | elapsed:   58.1s finished\n",
      "19-03-2023 00:59:35 INFO: Step to 5\n",
      "19-03-2023 00:59:35 INFO: Round 4, ESS 137, Epsilon 352.3090, Acceptance 78.5%\n",
      "[Parallel(n_jobs=4)]: Using backend LokyBackend with 4 concurrent workers.\n",
      "[Parallel(n_jobs=4)]: Done  10 tasks      | elapsed:    2.4s\n",
      "[Parallel(n_jobs=4)]: Done  64 tasks      | elapsed:   15.1s\n",
      "[Parallel(n_jobs=4)]: Done 154 tasks      | elapsed:   34.9s\n",
      "[Parallel(n_jobs=4)]: Done 200 out of 200 | elapsed:   46.7s finished\n",
      "19-03-2023 01:00:24 INFO: Step to 6\n",
      "19-03-2023 01:00:24 INFO: Round 5, ESS 127, Epsilon 225.9200, Acceptance 66.5%\n",
      "[Parallel(n_jobs=4)]: Using backend LokyBackend with 4 concurrent workers.\n",
      "[Parallel(n_jobs=4)]: Done  10 tasks      | elapsed:    2.4s\n",
      "[Parallel(n_jobs=4)]: Done  64 tasks      | elapsed:   15.2s\n",
      "[Parallel(n_jobs=4)]: Done 154 tasks      | elapsed:   42.2s\n",
      "[Parallel(n_jobs=4)]: Done 200 out of 200 | elapsed:   53.4s finished\n",
      "19-03-2023 01:01:21 INFO: Step to 7\n",
      "19-03-2023 01:01:21 INFO: Round 6, ESS 200, Epsilon 167.9046, Acceptance 83.0%\n",
      "[Parallel(n_jobs=4)]: Using backend LokyBackend with 4 concurrent workers.\n",
      "[Parallel(n_jobs=4)]: Done  10 tasks      | elapsed:    1.8s\n",
      "[Parallel(n_jobs=4)]: Done  64 tasks      | elapsed:   16.2s\n",
      "[Parallel(n_jobs=4)]: Done 154 tasks      | elapsed:   39.4s\n",
      "[Parallel(n_jobs=4)]: Done 200 out of 200 | elapsed:   53.6s finished\n",
      "19-03-2023 01:02:17 INFO: Step to 8\n",
      "19-03-2023 01:02:17 INFO: Round 7, ESS 180, Epsilon 112.8156, Acceptance 74.5%\n",
      "[Parallel(n_jobs=4)]: Using backend LokyBackend with 4 concurrent workers.\n",
      "[Parallel(n_jobs=4)]: Done  10 tasks      | elapsed:    2.3s\n",
      "[Parallel(n_jobs=4)]: Done  64 tasks      | elapsed:   15.8s\n",
      "[Parallel(n_jobs=4)]: Done 154 tasks      | elapsed:   37.8s\n",
      "[Parallel(n_jobs=4)]: Done 200 out of 200 | elapsed:   46.9s finished\n",
      "19-03-2023 01:03:06 INFO: Step to 9\n",
      "19-03-2023 01:03:06 INFO: Round 8, ESS 161, Epsilon 70.5066, Acceptance 77.0%\n",
      "[Parallel(n_jobs=4)]: Using backend LokyBackend with 4 concurrent workers.\n",
      "[Parallel(n_jobs=4)]: Done  10 tasks      | elapsed:    1.8s\n",
      "[Parallel(n_jobs=4)]: Done  64 tasks      | elapsed:   15.2s\n",
      "[Parallel(n_jobs=4)]: Done 154 tasks      | elapsed:   39.5s\n",
      "[Parallel(n_jobs=4)]: Done 200 out of 200 | elapsed:   51.3s finished\n",
      "19-03-2023 01:04:00 INFO: Step to 10\n",
      "19-03-2023 01:04:00 INFO: Round 9, ESS 143, Epsilon 45.3271, Acceptance 72.5%\n",
      "[Parallel(n_jobs=4)]: Using backend LokyBackend with 4 concurrent workers.\n",
      "[Parallel(n_jobs=4)]: Done  10 tasks      | elapsed:    2.3s\n",
      "[Parallel(n_jobs=4)]: Done  64 tasks      | elapsed:   16.3s\n",
      "[Parallel(n_jobs=4)]: Done 154 tasks      | elapsed:   45.4s\n",
      "[Parallel(n_jobs=4)]: Done 200 out of 200 | elapsed:  1.1min finished\n",
      "19-03-2023 01:05:08 INFO: Step to 11\n",
      "19-03-2023 01:05:08 INFO: Round 10, ESS 131, Epsilon 23.9927, Acceptance 63.0%\n",
      "[Parallel(n_jobs=4)]: Using backend LokyBackend with 4 concurrent workers.\n",
      "[Parallel(n_jobs=4)]: Done  10 tasks      | elapsed:    2.7s\n",
      "[Parallel(n_jobs=4)]: Done  64 tasks      | elapsed:   18.7s\n",
      "[Parallel(n_jobs=4)]: Done 154 tasks      | elapsed:   44.2s\n",
      "[Parallel(n_jobs=4)]: Done 200 out of 200 | elapsed:   57.8s finished\n",
      "19-03-2023 01:06:08 INFO: Step to 12\n",
      "19-03-2023 01:06:08 INFO: Round 11, ESS 200, Epsilon 13.8159, Acceptance 84.5%\n",
      "[Parallel(n_jobs=4)]: Using backend LokyBackend with 4 concurrent workers.\n",
      "[Parallel(n_jobs=4)]: Done  10 tasks      | elapsed:    2.1s\n",
      "[Parallel(n_jobs=4)]: Done  64 tasks      | elapsed:   16.8s\n",
      "[Parallel(n_jobs=4)]: Done 154 tasks      | elapsed:   42.9s\n",
      "[Parallel(n_jobs=4)]: Done 200 out of 200 | elapsed:   57.2s finished\n",
      "19-03-2023 01:07:09 INFO: Step to 13\n",
      "19-03-2023 01:07:09 INFO: Round 12, ESS 180, Epsilon 7.1797, Acceptance 78.0%\n",
      "[Parallel(n_jobs=4)]: Using backend LokyBackend with 4 concurrent workers.\n",
      "[Parallel(n_jobs=4)]: Done  10 tasks      | elapsed:    2.6s\n",
      "[Parallel(n_jobs=4)]: Done  64 tasks      | elapsed:   18.9s\n",
      "[Parallel(n_jobs=4)]: Done 154 tasks      | elapsed:   42.2s\n",
      "[Parallel(n_jobs=4)]: Done 200 out of 200 | elapsed:   56.2s finished\n",
      "19-03-2023 01:08:08 INFO: Step to 14\n",
      "19-03-2023 01:08:08 INFO: Round 13, ESS 161, Epsilon 5.9543, Acceptance 76.0%\n",
      "[Parallel(n_jobs=4)]: Using backend LokyBackend with 4 concurrent workers.\n",
      "[Parallel(n_jobs=4)]: Done  10 tasks      | elapsed:    3.0s\n",
      "[Parallel(n_jobs=4)]: Done  64 tasks      | elapsed:   20.5s\n",
      "[Parallel(n_jobs=4)]: Done 154 tasks      | elapsed:   48.1s\n",
      "[Parallel(n_jobs=4)]: Done 200 out of 200 | elapsed:   59.7s finished\n",
      "19-03-2023 01:09:11 INFO: Step to 15\n",
      "19-03-2023 01:09:11 INFO: Round 14, ESS 147, Epsilon 5.9543, Acceptance 71.5%\n",
      "[Parallel(n_jobs=4)]: Using backend LokyBackend with 4 concurrent workers.\n",
      "[Parallel(n_jobs=4)]: Done  10 tasks      | elapsed:    3.1s\n",
      "[Parallel(n_jobs=4)]: Done  64 tasks      | elapsed:   22.2s\n",
      "[Parallel(n_jobs=4)]: Done 154 tasks      | elapsed:   52.7s\n",
      "[Parallel(n_jobs=4)]: Done 200 out of 200 | elapsed:  1.1min finished\n",
      "19-03-2023 01:10:20 INFO: Step to 16\n",
      "19-03-2023 01:10:20 INFO: Round 15, ESS 134, Epsilon 5.9543, Acceptance 63.5%\n",
      "[Parallel(n_jobs=4)]: Using backend LokyBackend with 4 concurrent workers.\n",
      "[Parallel(n_jobs=4)]: Done  10 tasks      | elapsed:    2.2s\n",
      "[Parallel(n_jobs=4)]: Done  64 tasks      | elapsed:   17.0s\n",
      "[Parallel(n_jobs=4)]: Done 154 tasks      | elapsed:   42.2s\n",
      "[Parallel(n_jobs=4)]: Done 200 out of 200 | elapsed:   55.7s finished\n",
      "19-03-2023 01:11:19 INFO: Step to 17\n",
      "19-03-2023 01:11:19 INFO: Round 16, ESS 120, Epsilon 5.9542, Acceptance 65.5%\n",
      "[Parallel(n_jobs=4)]: Using backend LokyBackend with 4 concurrent workers.\n",
      "[Parallel(n_jobs=4)]: Done  10 tasks      | elapsed:    3.3s\n",
      "[Parallel(n_jobs=4)]: Done  64 tasks      | elapsed:   18.5s\n",
      "[Parallel(n_jobs=4)]: Done 154 tasks      | elapsed:   48.4s\n",
      "[Parallel(n_jobs=4)]: Done 200 out of 200 | elapsed:  1.0min finished\n",
      "19-03-2023 01:12:24 INFO: Step to 18\n",
      "19-03-2023 01:12:24 INFO: Round 17, ESS 200, Epsilon 5.9538, Acceptance 54.5%\n",
      "[Parallel(n_jobs=4)]: Using backend LokyBackend with 4 concurrent workers.\n",
      "[Parallel(n_jobs=4)]: Done  10 tasks      | elapsed:    3.1s\n",
      "[Parallel(n_jobs=4)]: Done  64 tasks      | elapsed:   17.0s\n",
      "[Parallel(n_jobs=4)]: Done 154 tasks      | elapsed:   49.0s\n"
     ]
    },
    {
     "name": "stderr",
     "output_type": "stream",
     "text": [
      "[Parallel(n_jobs=4)]: Done 200 out of 200 | elapsed:  1.1min finished\n",
      "19-03-2023 01:13:30 INFO: Step to 19\n",
      "19-03-2023 01:13:30 INFO: Round 18, ESS 180, Epsilon 5.9502, Acceptance 59.0%\n",
      "[Parallel(n_jobs=4)]: Using backend LokyBackend with 4 concurrent workers.\n",
      "[Parallel(n_jobs=4)]: Done  10 tasks      | elapsed:    2.7s\n",
      "[Parallel(n_jobs=4)]: Done  64 tasks      | elapsed:   17.3s\n",
      "[Parallel(n_jobs=4)]: Done 154 tasks      | elapsed:   44.1s\n",
      "[Parallel(n_jobs=4)]: Done 200 out of 200 | elapsed:   56.9s finished\n",
      "19-03-2023 01:14:30 INFO: Step to 20\n",
      "19-03-2023 01:14:30 INFO: Round 19, ESS 161, Epsilon 5.9209, Acceptance 41.5%\n",
      "[Parallel(n_jobs=4)]: Using backend LokyBackend with 4 concurrent workers.\n",
      "[Parallel(n_jobs=4)]: Done  10 tasks      | elapsed:    3.6s\n",
      "[Parallel(n_jobs=4)]: Done  64 tasks      | elapsed:   21.3s\n",
      "[Parallel(n_jobs=4)]: Done 154 tasks      | elapsed:   49.9s\n",
      "[Parallel(n_jobs=4)]: Done 200 out of 200 | elapsed:  1.1min finished\n",
      "19-03-2023 01:15:40 INFO: Step to 21\n",
      "19-03-2023 01:15:40 INFO: Round 20, ESS 146, Epsilon 5.7988, Acceptance 35.5%\n",
      "19-03-2023 01:15:40 INFO: Collecting posteriors\n"
     ]
    }
   ],
   "source": [
    "alg.fit(obj)"
   ]
  },
  {
   "cell_type": "code",
   "execution_count": 9,
   "id": "460ba28d",
   "metadata": {},
   "outputs": [],
   "source": [
    "post = [obj.simulate(p) for p in alg.Collector.ParameterList]"
   ]
  },
  {
   "cell_type": "code",
   "execution_count": 10,
   "id": "9c9a8c28",
   "metadata": {},
   "outputs": [],
   "source": [
    "pss = pd.DataFrame([dict(p) for p in alg.Collector.ParameterList])\n",
    "pss.to_csv(f'{out_folder}/Post.csv')\n",
    "pss.to_csv(f'docs/tabs/PostIND.csv')"
   ]
  },
  {
   "cell_type": "code",
   "execution_count": 11,
   "id": "e4c4870a",
   "metadata": {},
   "outputs": [],
   "source": [
    "mss = pd.concat([ms.assign(Key = i) for i, (_, ms, _) in enumerate(post)])\n",
    "mss.to_csv(f'{out_folder}/RunPost.csv')"
   ]
  },
  {
   "cell_type": "code",
   "execution_count": null,
   "id": "0d13b298",
   "metadata": {},
   "outputs": [],
   "source": []
  }
 ],
 "metadata": {
  "kernelspec": {
   "display_name": "Python 3 (ipykernel)",
   "language": "python",
   "name": "python3"
  },
  "language_info": {
   "codemirror_mode": {
    "name": "ipython",
    "version": 3
   },
   "file_extension": ".py",
   "mimetype": "text/x-python",
   "name": "python",
   "nbconvert_exporter": "python",
   "pygments_lexer": "ipython3",
   "version": "3.9.5"
  }
 },
 "nbformat": 4,
 "nbformat_minor": 5
}
