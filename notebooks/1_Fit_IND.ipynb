{
 "cells": [
  {
   "cell_type": "code",
   "execution_count": 1,
   "id": "06d5a912",
   "metadata": {},
   "outputs": [
    {
     "name": "stdout",
     "output_type": "stream",
     "text": [
      "D:\\Projects\\EpiTB\\tbdx23\n"
     ]
    }
   ],
   "source": [
    "%cd ../"
   ]
  },
  {
   "cell_type": "code",
   "execution_count": 2,
   "id": "6bd1ac44",
   "metadata": {},
   "outputs": [],
   "source": [
    "import os\n",
    "from model.ind.obj import *\n",
    "import pandas as pd\n",
    "from sims_pars.fitting import ApproxBayesComSMC, ApproxBayesCom"
   ]
  },
  {
   "cell_type": "code",
   "execution_count": 3,
   "id": "3e70b9ee",
   "metadata": {},
   "outputs": [],
   "source": [
    "out_folder = 'out/A_IND'"
   ]
  },
  {
   "cell_type": "code",
   "execution_count": 4,
   "id": "2b69abe9",
   "metadata": {},
   "outputs": [],
   "source": [
    "os.makedirs(out_folder, exist_ok=True)"
   ]
  },
  {
   "cell_type": "code",
   "execution_count": 5,
   "id": "6c9a705d",
   "metadata": {},
   "outputs": [
    {
     "name": "stdout",
     "output_type": "stream",
     "text": [
      "Domain(Name='rr_die_a', Type='Double', Lower=0.0, Upper=1.0)\n",
      "Domain(Name='beta', Type='Double', Lower=1.0, Upper=20.0)\n",
      "Domain(Name='rr_sus_slat', Type='Double', Lower=0.2, Upper=0.8)\n",
      "Domain(Name='rr_sus_rec', Type='Double', Lower=0.14, Upper=0.3)\n",
      "Domain(Name='r_onset', Type='Double', Lower=0.5, Upper=6.0)\n",
      "Domain(Name='p_primary', Type='Double', Lower=0.09, Upper=0.14)\n",
      "Domain(Name='r_clear', Type='Double', Lower=0.02, Upper=0.04)\n",
      "Domain(Name='r_sc', Type='Double', Lower=0.15, Upper=0.25)\n",
      "Domain(Name='r_react', Type='Double', Lower=0.0005, Upper=0.0015)\n",
      "Domain(Name='r_relapse', Type='Double', Lower=0.0011, Upper=0.002)\n",
      "Domain(Name='r_relapse_td', Type='Double', Lower=0.105, Upper=0.175)\n",
      "Domain(Name='r_relapse_tc', Type='Double', Lower=0.024, Upper=0.04)\n",
      "Domain(Name='r_csi', Type='Double', Lower=1.0, Upper=15.0)\n",
      "Domain(Name='r_recsi', Type='Double', Lower=1.0, Upper=15.0)\n",
      "Domain(Name='rt_cs', Type='Double', Lower=0.0, Upper=0.15)\n",
      "Domain(Name='ppv', Type='Double', Lower=0.5, Upper=0.9)\n"
     ]
    }
   ],
   "source": [
    "obj = Objective.load('pars/IND')\n",
    "\n",
    "for do in obj.Domain:\n",
    "    print(do)\n",
    "\n",
    "p0 = obj.sample_prior()\n",
    "sim = obj.simulate(p0)"
   ]
  },
  {
   "cell_type": "code",
   "execution_count": 6,
   "id": "88b293cd",
   "metadata": {},
   "outputs": [],
   "source": [
    "alg = ApproxBayesComSMC(n_collect = 150, max_round = 20)"
   ]
  },
  {
   "cell_type": "code",
   "execution_count": 7,
   "id": "60219910",
   "metadata": {},
   "outputs": [],
   "source": [
    "# alg = ApproxBayesCom(n_collect = 300)"
   ]
  },
  {
   "cell_type": "code",
   "execution_count": 8,
   "id": "c7873c70",
   "metadata": {
    "scrolled": true
   },
   "outputs": [
    {
     "name": "stderr",
     "output_type": "stream",
     "text": [
      "13-03-2023 13:09:45 INFO: Initialising\n",
      "[Parallel(n_jobs=4)]: Using backend LokyBackend with 4 concurrent workers.\n",
      "[Parallel(n_jobs=4)]: Done  10 tasks      | elapsed:    6.5s\n",
      "[Parallel(n_jobs=4)]: Done  64 tasks      | elapsed:   14.8s\n",
      "[Parallel(n_jobs=4)]: Done 150 out of 150 | elapsed:   29.2s finished\n",
      "13-03-2023 13:10:16 INFO: Step to 1\n",
      "13-03-2023 13:10:16 INFO: Round 0, ESS 150.00\n",
      "[Parallel(n_jobs=4)]: Using backend LokyBackend with 4 concurrent workers.\n",
      "[Parallel(n_jobs=4)]: Done  10 tasks      | elapsed:    2.5s\n",
      "[Parallel(n_jobs=4)]: Done  64 tasks      | elapsed:   17.8s\n",
      "[Parallel(n_jobs=4)]: Done 150 out of 150 | elapsed:   39.7s finished\n",
      "13-03-2023 13:10:58 INFO: Step to 2\n",
      "13-03-2023 13:10:58 INFO: Round 1, ESS 135, Epsilon 330.7843, Acceptance 90.0%\n",
      "[Parallel(n_jobs=4)]: Using backend LokyBackend with 4 concurrent workers.\n",
      "[Parallel(n_jobs=4)]: Done  10 tasks      | elapsed:    3.2s\n",
      "[Parallel(n_jobs=4)]: Done  64 tasks      | elapsed:   17.9s\n",
      "[Parallel(n_jobs=4)]: Done 150 out of 150 | elapsed:   40.4s finished\n",
      "13-03-2023 13:11:40 INFO: Step to 3\n",
      "13-03-2023 13:11:40 INFO: Round 2, ESS 123, Epsilon 173.0241, Acceptance 82.7%\n",
      "[Parallel(n_jobs=4)]: Using backend LokyBackend with 4 concurrent workers.\n",
      "[Parallel(n_jobs=4)]: Done  10 tasks      | elapsed:    2.8s\n",
      "[Parallel(n_jobs=4)]: Done  64 tasks      | elapsed:   18.5s\n",
      "[Parallel(n_jobs=4)]: Done 150 out of 150 | elapsed:   41.8s finished\n",
      "13-03-2023 13:12:24 INFO: Step to 4\n",
      "13-03-2023 13:12:24 INFO: Round 3, ESS 112, Epsilon 95.9748, Acceptance 78.0%\n",
      "[Parallel(n_jobs=4)]: Using backend LokyBackend with 4 concurrent workers.\n",
      "[Parallel(n_jobs=4)]: Done  10 tasks      | elapsed:    3.5s\n",
      "[Parallel(n_jobs=4)]: Done  64 tasks      | elapsed:   17.8s\n",
      "[Parallel(n_jobs=4)]: Done 150 out of 150 | elapsed:   47.0s finished\n",
      "13-03-2023 13:13:13 INFO: Step to 5\n",
      "13-03-2023 13:13:13 INFO: Round 4, ESS 104, Epsilon 43.6598, Acceptance 74.0%\n",
      "[Parallel(n_jobs=4)]: Using backend LokyBackend with 4 concurrent workers.\n",
      "[Parallel(n_jobs=4)]: Done  10 tasks      | elapsed:    2.1s\n",
      "[Parallel(n_jobs=4)]: Done  64 tasks      | elapsed:   18.1s\n",
      "[Parallel(n_jobs=4)]: Done 150 out of 150 | elapsed:   45.6s finished\n",
      "13-03-2023 13:14:00 INFO: Step to 6\n",
      "13-03-2023 13:14:00 INFO: Round 5, ESS 96, Epsilon 23.5915, Acceptance 69.3%\n",
      "[Parallel(n_jobs=4)]: Using backend LokyBackend with 4 concurrent workers.\n",
      "[Parallel(n_jobs=4)]: Done  10 tasks      | elapsed:    3.1s\n",
      "[Parallel(n_jobs=4)]: Done  64 tasks      | elapsed:   21.1s\n",
      "[Parallel(n_jobs=4)]: Done 150 out of 150 | elapsed:   56.4s finished\n",
      "13-03-2023 13:14:59 INFO: Step to 7\n",
      "13-03-2023 13:14:59 INFO: Round 6, ESS 150, Epsilon 12.2417, Acceptance 84.0%\n",
      "[Parallel(n_jobs=4)]: Using backend LokyBackend with 4 concurrent workers.\n",
      "[Parallel(n_jobs=4)]: Done  10 tasks      | elapsed:    2.8s\n",
      "[Parallel(n_jobs=4)]: Done  64 tasks      | elapsed:   24.2s\n",
      "[Parallel(n_jobs=4)]: Done 150 out of 150 | elapsed:   54.7s finished\n",
      "13-03-2023 13:15:56 INFO: Step to 8\n",
      "13-03-2023 13:15:56 INFO: Round 7, ESS 135, Epsilon 5.9543, Acceptance 79.3%\n",
      "[Parallel(n_jobs=4)]: Using backend LokyBackend with 4 concurrent workers.\n",
      "[Parallel(n_jobs=4)]: Done  10 tasks      | elapsed:    2.6s\n",
      "[Parallel(n_jobs=4)]: Done  64 tasks      | elapsed:   18.8s\n",
      "[Parallel(n_jobs=4)]: Done 150 out of 150 | elapsed:   46.3s finished\n",
      "13-03-2023 13:16:44 INFO: Step to 9\n",
      "13-03-2023 13:16:44 INFO: Round 8, ESS 121, Epsilon 5.9543, Acceptance 71.3%\n",
      "[Parallel(n_jobs=4)]: Using backend LokyBackend with 4 concurrent workers.\n",
      "[Parallel(n_jobs=4)]: Done  10 tasks      | elapsed:    3.0s\n",
      "[Parallel(n_jobs=4)]: Done  64 tasks      | elapsed:   18.1s\n",
      "[Parallel(n_jobs=4)]: Done 150 out of 150 | elapsed:   43.7s finished\n",
      "13-03-2023 13:17:30 INFO: Step to 10\n",
      "13-03-2023 13:17:30 INFO: Round 9, ESS 107, Epsilon 5.9543, Acceptance 64.0%\n",
      "[Parallel(n_jobs=4)]: Using backend LokyBackend with 4 concurrent workers.\n",
      "[Parallel(n_jobs=4)]: Done  10 tasks      | elapsed:    2.8s\n",
      "[Parallel(n_jobs=4)]: Done  64 tasks      | elapsed:   16.9s\n",
      "[Parallel(n_jobs=4)]: Done 150 out of 150 | elapsed:   42.1s finished\n",
      "13-03-2023 13:18:14 INFO: Step to 11\n",
      "13-03-2023 13:18:14 INFO: Round 10, ESS 97, Epsilon 5.9543, Acceptance 60.7%\n",
      "[Parallel(n_jobs=4)]: Using backend LokyBackend with 4 concurrent workers.\n",
      "[Parallel(n_jobs=4)]: Done  10 tasks      | elapsed:    2.8s\n",
      "[Parallel(n_jobs=4)]: Done  64 tasks      | elapsed:   16.9s\n",
      "[Parallel(n_jobs=4)]: Done 150 out of 150 | elapsed:   40.3s finished\n",
      "13-03-2023 13:18:56 INFO: Step to 12\n",
      "13-03-2023 13:18:56 INFO: Round 11, ESS 150, Epsilon 5.9543, Acceptance 46.7%\n",
      "[Parallel(n_jobs=4)]: Using backend LokyBackend with 4 concurrent workers.\n",
      "[Parallel(n_jobs=4)]: Done  10 tasks      | elapsed:    2.9s\n",
      "[Parallel(n_jobs=4)]: Done  64 tasks      | elapsed:   19.2s\n",
      "[Parallel(n_jobs=4)]: Done 150 out of 150 | elapsed:   45.4s finished\n",
      "13-03-2023 13:19:43 INFO: Step to 13\n",
      "13-03-2023 13:19:43 INFO: Round 12, ESS 135, Epsilon 5.9542, Acceptance 44.0%\n",
      "[Parallel(n_jobs=4)]: Using backend LokyBackend with 4 concurrent workers.\n",
      "[Parallel(n_jobs=4)]: Done  10 tasks      | elapsed:    3.1s\n",
      "[Parallel(n_jobs=4)]: Done  64 tasks      | elapsed:   17.7s\n",
      "[Parallel(n_jobs=4)]: Done 150 out of 150 | elapsed:   46.4s finished\n",
      "13-03-2023 13:20:32 INFO: Step to 14\n",
      "13-03-2023 13:20:32 INFO: Round 13, ESS 121, Epsilon 5.9539, Acceptance 44.0%\n",
      "[Parallel(n_jobs=4)]: Using backend LokyBackend with 4 concurrent workers.\n",
      "[Parallel(n_jobs=4)]: Done  10 tasks      | elapsed:    2.6s\n",
      "[Parallel(n_jobs=4)]: Done  64 tasks      | elapsed:   18.5s\n",
      "[Parallel(n_jobs=4)]: Done 150 out of 150 | elapsed:   47.2s finished\n",
      "13-03-2023 13:21:21 INFO: Step to 15\n",
      "13-03-2023 13:21:21 INFO: Round 14, ESS 108, Epsilon 5.9531, Acceptance 47.3%\n",
      "[Parallel(n_jobs=4)]: Using backend LokyBackend with 4 concurrent workers.\n",
      "[Parallel(n_jobs=4)]: Done  10 tasks      | elapsed:    3.1s\n",
      "[Parallel(n_jobs=4)]: Done  64 tasks      | elapsed:   19.6s\n",
      "[Parallel(n_jobs=4)]: Done 150 out of 150 | elapsed:   48.6s finished\n",
      "13-03-2023 13:22:12 INFO: Step to 16\n",
      "13-03-2023 13:22:12 INFO: Round 15, ESS 99, Epsilon 5.9490, Acceptance 29.3%\n",
      "[Parallel(n_jobs=4)]: Using backend LokyBackend with 4 concurrent workers.\n",
      "[Parallel(n_jobs=4)]: Done  10 tasks      | elapsed:    1.8s\n",
      "[Parallel(n_jobs=4)]: Done  64 tasks      | elapsed:   19.0s\n",
      "[Parallel(n_jobs=4)]: Done 150 out of 150 | elapsed:   43.7s finished\n",
      "13-03-2023 13:22:57 INFO: Step to 17\n",
      "13-03-2023 13:22:57 INFO: Round 16, ESS 150, Epsilon 5.9399, Acceptance 42.7%\n",
      "[Parallel(n_jobs=4)]: Using backend LokyBackend with 4 concurrent workers.\n",
      "[Parallel(n_jobs=4)]: Done  10 tasks      | elapsed:    2.8s\n",
      "[Parallel(n_jobs=4)]: Done  64 tasks      | elapsed:   21.8s\n",
      "[Parallel(n_jobs=4)]: Done 150 out of 150 | elapsed:   51.8s finished\n",
      "13-03-2023 13:23:51 INFO: Step to 18\n",
      "13-03-2023 13:23:51 INFO: Round 17, ESS 135, Epsilon 5.8111, Acceptance 38.0%\n",
      "[Parallel(n_jobs=4)]: Using backend LokyBackend with 4 concurrent workers.\n",
      "[Parallel(n_jobs=4)]: Done  10 tasks      | elapsed:    2.2s\n",
      "[Parallel(n_jobs=4)]: Done  64 tasks      | elapsed:   17.9s\n",
      "[Parallel(n_jobs=4)]: Done 150 out of 150 | elapsed:   44.0s finished\n",
      "13-03-2023 13:24:38 INFO: Step to 19\n",
      "13-03-2023 13:24:38 INFO: Round 18, ESS 121, Epsilon 5.2576, Acceptance 23.3%\n",
      "[Parallel(n_jobs=4)]: Using backend LokyBackend with 4 concurrent workers.\n",
      "[Parallel(n_jobs=4)]: Done  10 tasks      | elapsed:    2.5s\n",
      "[Parallel(n_jobs=4)]: Done  64 tasks      | elapsed:   23.6s\n",
      "[Parallel(n_jobs=4)]: Done 150 out of 150 | elapsed:   58.6s finished\n",
      "13-03-2023 13:25:38 INFO: Step to 20\n",
      "13-03-2023 13:25:38 INFO: Round 19, ESS 109, Epsilon 4.4435, Acceptance 24.0%\n",
      "[Parallel(n_jobs=4)]: Using backend LokyBackend with 4 concurrent workers.\n",
      "[Parallel(n_jobs=4)]: Done  10 tasks      | elapsed:    3.1s\n",
      "[Parallel(n_jobs=4)]: Done  64 tasks      | elapsed:   20.5s\n",
      "[Parallel(n_jobs=4)]: Done 150 out of 150 | elapsed:  1.1min finished\n",
      "13-03-2023 13:26:47 INFO: Step to 21\n",
      "13-03-2023 13:26:47 INFO: Round 20, ESS 97, Epsilon 3.8598, Acceptance 18.0%\n",
      "13-03-2023 13:26:47 INFO: Collecting posteriors\n"
     ]
    }
   ],
   "source": [
    "alg.fit(obj)"
   ]
  },
  {
   "cell_type": "code",
   "execution_count": 9,
   "id": "460ba28d",
   "metadata": {},
   "outputs": [],
   "source": [
    "post = [obj.simulate(p) for p in alg.Collector.ParameterList]"
   ]
  },
  {
   "cell_type": "code",
   "execution_count": 10,
   "id": "9c9a8c28",
   "metadata": {},
   "outputs": [],
   "source": [
    "pss = pd.DataFrame([dict(p) for p in alg.Collector.ParameterList])\n",
    "pss.to_csv(f'{out_folder}/Post.csv')\n",
    "pss.to_csv(f'docs/tabs/PostIND.csv')"
   ]
  },
  {
   "cell_type": "code",
   "execution_count": 11,
   "id": "e4c4870a",
   "metadata": {},
   "outputs": [],
   "source": [
    "mss = pd.concat([ms.assign(Key = i) for i, (_, ms, _) in enumerate(post)])\n",
    "mss.to_csv(f'{out_folder}/RunPost.csv')"
   ]
  },
  {
   "cell_type": "code",
   "execution_count": null,
   "id": "0d13b298",
   "metadata": {},
   "outputs": [],
   "source": []
  }
 ],
 "metadata": {
  "kernelspec": {
   "display_name": "Python 3 (ipykernel)",
   "language": "python",
   "name": "python3"
  },
  "language_info": {
   "codemirror_mode": {
    "name": "ipython",
    "version": 3
   },
   "file_extension": ".py",
   "mimetype": "text/x-python",
   "name": "python",
   "nbconvert_exporter": "python",
   "pygments_lexer": "ipython3",
   "version": "3.9.5"
  }
 },
 "nbformat": 4,
 "nbformat_minor": 5
}
