{
 "cells": [
  {
   "cell_type": "code",
   "execution_count": 1,
   "id": "89b6d381",
   "metadata": {},
   "outputs": [
    {
     "name": "stdout",
     "output_type": "stream",
     "text": [
      "D:\\Projects\\EpiTB\\tbdx23\n"
     ]
    }
   ],
   "source": [
    "%cd ../"
   ]
  },
  {
   "cell_type": "code",
   "execution_count": 3,
   "id": "4b959e4a",
   "metadata": {},
   "outputs": [],
   "source": [
    "import os\n",
    "import pandas as pd\n",
    "import numpy as np\n",
    "from model.core.inputs import load_inputs\n",
    "from model.ind.dy import ModelIND\n",
    "from scipy.optimize import minimize_scalar\n",
    "from scipy.interpolate import interp1d"
   ]
  },
  {
   "cell_type": "code",
   "execution_count": 4,
   "id": "2f7c3693",
   "metadata": {},
   "outputs": [],
   "source": [
    "iso = 'IND'\n",
    "in_folder = f'out/A_{iso}'\n",
    "out_folder = f'out/B_{iso}'"
   ]
  },
  {
   "cell_type": "code",
   "execution_count": 5,
   "id": "e092f180",
   "metadata": {},
   "outputs": [],
   "source": [
    "os.makedirs(out_folder, exist_ok=True)"
   ]
  },
  {
   "cell_type": "code",
   "execution_count": 7,
   "id": "573e2493",
   "metadata": {},
   "outputs": [],
   "source": [
    "inp = load_inputs(f'pars/{iso}')\n",
    "model = ModelIND(inp)"
   ]
  },
  {
   "cell_type": "code",
   "execution_count": 8,
   "id": "a913253d",
   "metadata": {},
   "outputs": [
    {
     "data": {
      "text/html": [
       "<div>\n",
       "<style scoped>\n",
       "    .dataframe tbody tr th:only-of-type {\n",
       "        vertical-align: middle;\n",
       "    }\n",
       "\n",
       "    .dataframe tbody tr th {\n",
       "        vertical-align: top;\n",
       "    }\n",
       "\n",
       "    .dataframe thead th {\n",
       "        text-align: right;\n",
       "    }\n",
       "</style>\n",
       "<table border=\"1\" class=\"dataframe\">\n",
       "  <thead>\n",
       "    <tr style=\"text-align: right;\">\n",
       "      <th></th>\n",
       "      <th>iso</th>\n",
       "      <th>Country</th>\n",
       "      <th>Year</th>\n",
       "      <th>q</th>\n",
       "      <th>QCNR</th>\n",
       "    </tr>\n",
       "    <tr>\n",
       "      <th>Time</th>\n",
       "      <th></th>\n",
       "      <th></th>\n",
       "      <th></th>\n",
       "      <th></th>\n",
       "      <th></th>\n",
       "    </tr>\n",
       "  </thead>\n",
       "  <tbody>\n",
       "    <tr>\n",
       "      <th>2020.125</th>\n",
       "      <td>IND</td>\n",
       "      <td>India</td>\n",
       "      <td>2020</td>\n",
       "      <td>1</td>\n",
       "      <td>0.000378</td>\n",
       "    </tr>\n",
       "    <tr>\n",
       "      <th>2020.375</th>\n",
       "      <td>IND</td>\n",
       "      <td>India</td>\n",
       "      <td>2020</td>\n",
       "      <td>2</td>\n",
       "      <td>0.000236</td>\n",
       "    </tr>\n",
       "    <tr>\n",
       "      <th>2020.625</th>\n",
       "      <td>IND</td>\n",
       "      <td>India</td>\n",
       "      <td>2020</td>\n",
       "      <td>3</td>\n",
       "      <td>0.000260</td>\n",
       "    </tr>\n",
       "    <tr>\n",
       "      <th>2020.875</th>\n",
       "      <td>IND</td>\n",
       "      <td>India</td>\n",
       "      <td>2020</td>\n",
       "      <td>4</td>\n",
       "      <td>0.000295</td>\n",
       "    </tr>\n",
       "    <tr>\n",
       "      <th>2021.125</th>\n",
       "      <td>IND</td>\n",
       "      <td>India</td>\n",
       "      <td>2021</td>\n",
       "      <td>1</td>\n",
       "      <td>0.000372</td>\n",
       "    </tr>\n",
       "    <tr>\n",
       "      <th>2021.375</th>\n",
       "      <td>IND</td>\n",
       "      <td>India</td>\n",
       "      <td>2021</td>\n",
       "      <td>2</td>\n",
       "      <td>0.000262</td>\n",
       "    </tr>\n",
       "    <tr>\n",
       "      <th>2021.625</th>\n",
       "      <td>IND</td>\n",
       "      <td>India</td>\n",
       "      <td>2021</td>\n",
       "      <td>3</td>\n",
       "      <td>0.000398</td>\n",
       "    </tr>\n",
       "    <tr>\n",
       "      <th>2021.875</th>\n",
       "      <td>IND</td>\n",
       "      <td>India</td>\n",
       "      <td>2021</td>\n",
       "      <td>4</td>\n",
       "      <td>0.000350</td>\n",
       "    </tr>\n",
       "    <tr>\n",
       "      <th>2022.125</th>\n",
       "      <td>IND</td>\n",
       "      <td>India</td>\n",
       "      <td>2022</td>\n",
       "      <td>1</td>\n",
       "      <td>0.000379</td>\n",
       "    </tr>\n",
       "    <tr>\n",
       "      <th>2022.375</th>\n",
       "      <td>IND</td>\n",
       "      <td>India</td>\n",
       "      <td>2022</td>\n",
       "      <td>2</td>\n",
       "      <td>0.000439</td>\n",
       "    </tr>\n",
       "    <tr>\n",
       "      <th>2022.625</th>\n",
       "      <td>IND</td>\n",
       "      <td>India</td>\n",
       "      <td>2022</td>\n",
       "      <td>3</td>\n",
       "      <td>0.000387</td>\n",
       "    </tr>\n",
       "  </tbody>\n",
       "</table>\n",
       "</div>"
      ],
      "text/plain": [
       "          iso Country  Year  q      QCNR\n",
       "Time                                    \n",
       "2020.125  IND   India  2020  1  0.000378\n",
       "2020.375  IND   India  2020  2  0.000236\n",
       "2020.625  IND   India  2020  3  0.000260\n",
       "2020.875  IND   India  2020  4  0.000295\n",
       "2021.125  IND   India  2021  1  0.000372\n",
       "2021.375  IND   India  2021  2  0.000262\n",
       "2021.625  IND   India  2021  3  0.000398\n",
       "2021.875  IND   India  2021  4  0.000350\n",
       "2022.125  IND   India  2022  1  0.000379\n",
       "2022.375  IND   India  2022  2  0.000439\n",
       "2022.625  IND   India  2022  3  0.000387"
      ]
     },
     "execution_count": 8,
     "metadata": {},
     "output_type": "execute_result"
    }
   ],
   "source": [
    "tarq = pd.read_csv(f'pars/{iso}/targets_q.csv').set_index('Time')\n",
    "tarq"
   ]
  },
  {
   "cell_type": "code",
   "execution_count": 9,
   "id": "4165027c",
   "metadata": {},
   "outputs": [],
   "source": [
    "particles = pd.read_csv(f'{in_folder}/Post.csv')\n",
    "particles = [dict(row) for _, row in particles.iterrows()]\n",
    "\n",
    "sims = list()\n",
    "for p in particles:\n",
    "    ys, _, _ = model.simulate_to_preCOVID(p)\n",
    "    sims.append((p, ys))"
   ]
  },
  {
   "cell_type": "code",
   "execution_count": 10,
   "id": "2723e4b3",
   "metadata": {},
   "outputs": [],
   "source": [
    "def fn(k, sims, tarq, t0, i0, t_in, y_in0):\n",
    "    y_in0 = y_in0.copy()\n",
    "    y_in0[i0] = k\n",
    "    k_covid = interp1d(t_in, y_in0, kind='nearest', bounds_error=False, fill_value=1)\n",
    "\n",
    "    ds = list()\n",
    "\n",
    "    for p, ys in sims:\n",
    "        p['k_covid'] = k_covid\n",
    "        _, ms, _ = model.simulate_to_postCOVID(p, ys, t_eval=np.array([t0 - 1/8, t0 + 1/8]))\n",
    "        d = (tarq.QCNR[t0] / ms.CNR - 1).pow(2).sum()\n",
    "        ds.append(d)\n",
    "\n",
    "    return sum(ds)"
   ]
  },
  {
   "cell_type": "code",
   "execution_count": 11,
   "id": "8650f0b2",
   "metadata": {},
   "outputs": [
    {
     "name": "stdout",
     "output_type": "stream",
     "text": [
      "2020.375 2 1.499996589196675\n"
     ]
    },
    {
     "ename": "KeyboardInterrupt",
     "evalue": "",
     "output_type": "error",
     "traceback": [
      "\u001b[1;31m---------------------------------------------------------------------------\u001b[0m",
      "\u001b[1;31mKeyboardInterrupt\u001b[0m                         Traceback (most recent call last)",
      "Input \u001b[1;32mIn [11]\u001b[0m, in \u001b[0;36m<cell line: 9>\u001b[1;34m()\u001b[0m\n\u001b[0;32m      7\u001b[0m sims0 \u001b[38;5;241m=\u001b[39m sims[:\u001b[38;5;241m50\u001b[39m]\n\u001b[0;32m      9\u001b[0m \u001b[38;5;28;01mfor\u001b[39;00m i, t \u001b[38;5;129;01min\u001b[39;00m \u001b[38;5;28menumerate\u001b[39m(t_in[\u001b[38;5;241m2\u001b[39m:], \u001b[38;5;241m2\u001b[39m):\n\u001b[0;32m     10\u001b[0m \u001b[38;5;66;03m#     if t > 2022:\u001b[39;00m\n\u001b[0;32m     11\u001b[0m \u001b[38;5;66;03m#         continue\u001b[39;00m\n\u001b[1;32m---> 13\u001b[0m     opt \u001b[38;5;241m=\u001b[39m \u001b[43mminimize_scalar\u001b[49m\u001b[43m(\u001b[49m\u001b[43mfn\u001b[49m\u001b[43m,\u001b[49m\u001b[43m \u001b[49m\u001b[43margs\u001b[49m\u001b[38;5;241;43m=\u001b[39;49m\u001b[43m(\u001b[49m\u001b[43msims0\u001b[49m\u001b[43m,\u001b[49m\u001b[43m \u001b[49m\u001b[43mtarq\u001b[49m\u001b[43m,\u001b[49m\u001b[43m \u001b[49m\u001b[43mt\u001b[49m\u001b[43m,\u001b[49m\u001b[43m \u001b[49m\u001b[43mi\u001b[49m\u001b[43m,\u001b[49m\u001b[43m \u001b[49m\u001b[43mt_in\u001b[49m\u001b[43m,\u001b[49m\u001b[43m \u001b[49m\u001b[43my_in\u001b[49m\u001b[43m,\u001b[49m\u001b[43m \u001b[49m\u001b[43m)\u001b[49m\u001b[43m,\u001b[49m\u001b[43m \u001b[49m\u001b[43mmethod\u001b[49m\u001b[38;5;241;43m=\u001b[39;49m\u001b[38;5;124;43m'\u001b[39;49m\u001b[38;5;124;43mbounded\u001b[39;49m\u001b[38;5;124;43m'\u001b[39;49m\u001b[43m,\u001b[49m\u001b[43m \u001b[49m\u001b[43mbounds\u001b[49m\u001b[38;5;241;43m=\u001b[39;49m\u001b[43m[\u001b[49m\u001b[38;5;241;43m0.2\u001b[39;49m\u001b[43m,\u001b[49m\u001b[43m \u001b[49m\u001b[38;5;241;43m1.5\u001b[39;49m\u001b[43m]\u001b[49m\u001b[43m)\u001b[49m\n\u001b[0;32m     15\u001b[0m     \u001b[38;5;66;03m# Update k_covid\u001b[39;00m\n\u001b[0;32m     16\u001b[0m     y_in[i] \u001b[38;5;241m=\u001b[39m opt\u001b[38;5;241m.\u001b[39mx\n",
      "File \u001b[1;32mD:\\venv\\sim\\lib\\site-packages\\scipy\\optimize\\_minimize.py:804\u001b[0m, in \u001b[0;36mminimize_scalar\u001b[1;34m(fun, bracket, bounds, args, method, tol, options)\u001b[0m\n\u001b[0;32m    802\u001b[0m     \u001b[38;5;28;01mif\u001b[39;00m \u001b[38;5;28misinstance\u001b[39m(disp, \u001b[38;5;28mbool\u001b[39m):\n\u001b[0;32m    803\u001b[0m         options[\u001b[38;5;124m'\u001b[39m\u001b[38;5;124mdisp\u001b[39m\u001b[38;5;124m'\u001b[39m] \u001b[38;5;241m=\u001b[39m \u001b[38;5;241m2\u001b[39m \u001b[38;5;241m*\u001b[39m \u001b[38;5;28mint\u001b[39m(disp)\n\u001b[1;32m--> 804\u001b[0m     \u001b[38;5;28;01mreturn\u001b[39;00m _minimize_scalar_bounded(fun, bounds, args, \u001b[38;5;241m*\u001b[39m\u001b[38;5;241m*\u001b[39moptions)\n\u001b[0;32m    805\u001b[0m \u001b[38;5;28;01melif\u001b[39;00m meth \u001b[38;5;241m==\u001b[39m \u001b[38;5;124m'\u001b[39m\u001b[38;5;124mgolden\u001b[39m\u001b[38;5;124m'\u001b[39m:\n\u001b[0;32m    806\u001b[0m     \u001b[38;5;28;01mreturn\u001b[39;00m _minimize_scalar_golden(fun, bracket, args, \u001b[38;5;241m*\u001b[39m\u001b[38;5;241m*\u001b[39moptions)\n",
      "File \u001b[1;32mD:\\venv\\sim\\lib\\site-packages\\scipy\\optimize\\optimize.py:2077\u001b[0m, in \u001b[0;36m_minimize_scalar_bounded\u001b[1;34m(func, bounds, args, xatol, maxiter, disp, **unknown_options)\u001b[0m\n\u001b[0;32m   2075\u001b[0m si \u001b[38;5;241m=\u001b[39m np\u001b[38;5;241m.\u001b[39msign(rat) \u001b[38;5;241m+\u001b[39m (rat \u001b[38;5;241m==\u001b[39m \u001b[38;5;241m0\u001b[39m)\n\u001b[0;32m   2076\u001b[0m x \u001b[38;5;241m=\u001b[39m xf \u001b[38;5;241m+\u001b[39m si \u001b[38;5;241m*\u001b[39m np\u001b[38;5;241m.\u001b[39mmaximum(np\u001b[38;5;241m.\u001b[39mabs(rat), tol1)\n\u001b[1;32m-> 2077\u001b[0m fu \u001b[38;5;241m=\u001b[39m \u001b[43mfunc\u001b[49m\u001b[43m(\u001b[49m\u001b[43mx\u001b[49m\u001b[43m,\u001b[49m\u001b[43m \u001b[49m\u001b[38;5;241;43m*\u001b[39;49m\u001b[43margs\u001b[49m\u001b[43m)\u001b[49m\n\u001b[0;32m   2078\u001b[0m num \u001b[38;5;241m+\u001b[39m\u001b[38;5;241m=\u001b[39m \u001b[38;5;241m1\u001b[39m\n\u001b[0;32m   2079\u001b[0m fmin_data \u001b[38;5;241m=\u001b[39m (num, x, fu)\n",
      "Input \u001b[1;32mIn [10]\u001b[0m, in \u001b[0;36mfn\u001b[1;34m(k, sims, tarq, t0, i0, t_in, y_in0)\u001b[0m\n\u001b[0;32m      8\u001b[0m \u001b[38;5;28;01mfor\u001b[39;00m p, ys \u001b[38;5;129;01min\u001b[39;00m sims:\n\u001b[0;32m      9\u001b[0m     p[\u001b[38;5;124m'\u001b[39m\u001b[38;5;124mk_covid\u001b[39m\u001b[38;5;124m'\u001b[39m] \u001b[38;5;241m=\u001b[39m k_covid\n\u001b[1;32m---> 10\u001b[0m     _, ms, _ \u001b[38;5;241m=\u001b[39m \u001b[43mmodel\u001b[49m\u001b[38;5;241;43m.\u001b[39;49m\u001b[43msimulate_to_postCOVID\u001b[49m\u001b[43m(\u001b[49m\u001b[43mp\u001b[49m\u001b[43m,\u001b[49m\u001b[43m \u001b[49m\u001b[43mys\u001b[49m\u001b[43m,\u001b[49m\u001b[43m \u001b[49m\u001b[43mt_eval\u001b[49m\u001b[38;5;241;43m=\u001b[39;49m\u001b[43mnp\u001b[49m\u001b[38;5;241;43m.\u001b[39;49m\u001b[43marray\u001b[49m\u001b[43m(\u001b[49m\u001b[43m[\u001b[49m\u001b[43mt0\u001b[49m\u001b[43m \u001b[49m\u001b[38;5;241;43m-\u001b[39;49m\u001b[43m \u001b[49m\u001b[38;5;241;43m1\u001b[39;49m\u001b[38;5;241;43m/\u001b[39;49m\u001b[38;5;241;43m8\u001b[39;49m\u001b[43m,\u001b[49m\u001b[43m \u001b[49m\u001b[43mt0\u001b[49m\u001b[43m \u001b[49m\u001b[38;5;241;43m+\u001b[39;49m\u001b[43m \u001b[49m\u001b[38;5;241;43m1\u001b[39;49m\u001b[38;5;241;43m/\u001b[39;49m\u001b[38;5;241;43m8\u001b[39;49m\u001b[43m]\u001b[49m\u001b[43m)\u001b[49m\u001b[43m)\u001b[49m\n\u001b[0;32m     11\u001b[0m     d \u001b[38;5;241m=\u001b[39m (tarq\u001b[38;5;241m.\u001b[39mQCNR[t0] \u001b[38;5;241m/\u001b[39m ms\u001b[38;5;241m.\u001b[39mCNR \u001b[38;5;241m-\u001b[39m \u001b[38;5;241m1\u001b[39m)\u001b[38;5;241m.\u001b[39mpow(\u001b[38;5;241m2\u001b[39m)\u001b[38;5;241m.\u001b[39msum()\n\u001b[0;32m     12\u001b[0m     ds\u001b[38;5;241m.\u001b[39mappend(d)\n",
      "File \u001b[1;32mD:\\Projects\\EpiTB\\tbdx23\\model\\core\\dy.py:122\u001b[0m, in \u001b[0;36mAbsModel.simulate_to_postCOVID\u001b[1;34m(self, p, ys0, t_eval)\u001b[0m\n\u001b[0;32m    120\u001b[0m p \u001b[38;5;241m=\u001b[39m \u001b[38;5;28mself\u001b[39m\u001b[38;5;241m.\u001b[39mupdate_parameters(p)\n\u001b[0;32m    121\u001b[0m t0, y0 \u001b[38;5;241m=\u001b[39m ys0\u001b[38;5;241m.\u001b[39mt[\u001b[38;5;241m-\u001b[39m\u001b[38;5;241m1\u001b[39m], ys0\u001b[38;5;241m.\u001b[39my[:, \u001b[38;5;241m-\u001b[39m\u001b[38;5;241m1\u001b[39m]\n\u001b[1;32m--> 122\u001b[0m \u001b[38;5;28;01mreturn\u001b[39;00m \u001b[38;5;28;43mself\u001b[39;49m\u001b[38;5;241;43m.\u001b[39;49m\u001b[43m__sim\u001b[49m\u001b[43m(\u001b[49m\u001b[43mp\u001b[49m\u001b[43m,\u001b[49m\u001b[43m \u001b[49m\u001b[43my0\u001b[49m\u001b[43m,\u001b[49m\u001b[43m \u001b[49m\u001b[43mt0\u001b[49m\u001b[43m,\u001b[49m\u001b[43m \u001b[49m\u001b[38;5;28;43mmax\u001b[39;49m\u001b[43m(\u001b[49m\u001b[43mt_eval\u001b[49m\u001b[43m)\u001b[49m\u001b[43m,\u001b[49m\u001b[43m \u001b[49m\u001b[43mt_eval\u001b[49m\u001b[43m)\u001b[49m\n",
      "File \u001b[1;32mD:\\Projects\\EpiTB\\tbdx23\\model\\core\\dy.py:103\u001b[0m, in \u001b[0;36mAbsModel.__sim\u001b[1;34m(self, p, y0, t0, t1, t_eval)\u001b[0m\n\u001b[0;32m    101\u001b[0m \u001b[38;5;28;01mif\u001b[39;00m t_eval \u001b[38;5;129;01mis\u001b[39;00m \u001b[38;5;129;01mnot\u001b[39;00m \u001b[38;5;28;01mNone\u001b[39;00m:\n\u001b[0;32m    102\u001b[0m     ms \u001b[38;5;241m=\u001b[39m [\u001b[38;5;28mself\u001b[39m\u001b[38;5;241m.\u001b[39mmeasure(t_eval[i], ys\u001b[38;5;241m.\u001b[39my\u001b[38;5;241m.\u001b[39mT[i], p) \u001b[38;5;28;01mfor\u001b[39;00m i \u001b[38;5;129;01min\u001b[39;00m \u001b[38;5;28mrange\u001b[39m(t_eval\u001b[38;5;241m.\u001b[39mshape[\u001b[38;5;241m0\u001b[39m])]\n\u001b[1;32m--> 103\u001b[0m     ms \u001b[38;5;241m=\u001b[39m \u001b[38;5;28;43mself\u001b[39;49m\u001b[38;5;241;43m.\u001b[39;49m\u001b[43mreform_ms\u001b[49m\u001b[43m(\u001b[49m\u001b[43mms\u001b[49m\u001b[43m)\u001b[49m\n\u001b[0;32m    104\u001b[0m \u001b[38;5;28;01melse\u001b[39;00m:\n\u001b[0;32m    105\u001b[0m     ms \u001b[38;5;241m=\u001b[39m \u001b[38;5;28;01mNone\u001b[39;00m\n",
      "File \u001b[1;32mD:\\Projects\\EpiTB\\tbdx23\\model\\ind\\dy.py:246\u001b[0m, in \u001b[0;36mModelIND.reform_ms\u001b[1;34m(ms)\u001b[0m\n\u001b[0;32m    244\u001b[0m \u001b[38;5;129m@staticmethod\u001b[39m\n\u001b[0;32m    245\u001b[0m \u001b[38;5;28;01mdef\u001b[39;00m \u001b[38;5;21mreform_ms\u001b[39m(ms):\n\u001b[1;32m--> 246\u001b[0m     ms1 \u001b[38;5;241m=\u001b[39m \u001b[43mAbsModel\u001b[49m\u001b[38;5;241;43m.\u001b[39;49m\u001b[43mreform_ms\u001b[49m\u001b[43m(\u001b[49m\u001b[43mms\u001b[49m\u001b[43m)\u001b[49m\n\u001b[0;32m    248\u001b[0m     ms \u001b[38;5;241m=\u001b[39m pd\u001b[38;5;241m.\u001b[39mDataFrame(ms)\u001b[38;5;241m.\u001b[39mset_index(\u001b[38;5;124m'\u001b[39m\u001b[38;5;124mYear\u001b[39m\u001b[38;5;124m'\u001b[39m)\n\u001b[0;32m    249\u001b[0m     ns \u001b[38;5;241m=\u001b[39m ms\u001b[38;5;241m.\u001b[39mN\u001b[38;5;241m.\u001b[39mrolling(\u001b[38;5;241m2\u001b[39m)\u001b[38;5;241m.\u001b[39mmean()\n",
      "File \u001b[1;32mD:\\Projects\\EpiTB\\tbdx23\\model\\core\\dy.py:88\u001b[0m, in \u001b[0;36mAbsModel.reform_ms\u001b[1;34m(ms)\u001b[0m\n\u001b[0;32m     86\u001b[0m ms1[\u001b[38;5;124m'\u001b[39m\u001b[38;5;124mPrA\u001b[39m\u001b[38;5;124m'\u001b[39m] \u001b[38;5;241m=\u001b[39m ms1[\u001b[38;5;124m'\u001b[39m\u001b[38;5;124mPrevA\u001b[39m\u001b[38;5;124m'\u001b[39m] \u001b[38;5;241m/\u001b[39m ms1[\u001b[38;5;124m'\u001b[39m\u001b[38;5;124mPrev\u001b[39m\u001b[38;5;124m'\u001b[39m]\n\u001b[0;32m     87\u001b[0m ms1[\u001b[38;5;124m'\u001b[39m\u001b[38;5;124mPrS\u001b[39m\u001b[38;5;124m'\u001b[39m] \u001b[38;5;241m=\u001b[39m ms1[\u001b[38;5;124m'\u001b[39m\u001b[38;5;124mPrevS\u001b[39m\u001b[38;5;124m'\u001b[39m] \u001b[38;5;241m/\u001b[39m ms1[\u001b[38;5;124m'\u001b[39m\u001b[38;5;124mPrev\u001b[39m\u001b[38;5;124m'\u001b[39m]\n\u001b[1;32m---> 88\u001b[0m ms1[\u001b[38;5;124m'\u001b[39m\u001b[38;5;124mPrC\u001b[39m\u001b[38;5;124m'\u001b[39m] \u001b[38;5;241m=\u001b[39m ms1[\u001b[38;5;124m'\u001b[39m\u001b[38;5;124mPrevC\u001b[39m\u001b[38;5;124m'\u001b[39m] \u001b[38;5;241m/\u001b[39m ms1[\u001b[38;5;124m'\u001b[39m\u001b[38;5;124mPrev\u001b[39m\u001b[38;5;124m'\u001b[39m]\n\u001b[0;32m     90\u001b[0m \u001b[38;5;28;01mreturn\u001b[39;00m ms1\n",
      "File \u001b[1;32mD:\\venv\\sim\\lib\\site-packages\\pandas\\core\\frame.py:3163\u001b[0m, in \u001b[0;36mDataFrame.__setitem__\u001b[1;34m(self, key, value)\u001b[0m\n\u001b[0;32m   3160\u001b[0m     \u001b[38;5;28mself\u001b[39m\u001b[38;5;241m.\u001b[39m_setitem_array(key, value)\n\u001b[0;32m   3161\u001b[0m \u001b[38;5;28;01melse\u001b[39;00m:\n\u001b[0;32m   3162\u001b[0m     \u001b[38;5;66;03m# set column\u001b[39;00m\n\u001b[1;32m-> 3163\u001b[0m     \u001b[38;5;28;43mself\u001b[39;49m\u001b[38;5;241;43m.\u001b[39;49m\u001b[43m_set_item\u001b[49m\u001b[43m(\u001b[49m\u001b[43mkey\u001b[49m\u001b[43m,\u001b[49m\u001b[43m \u001b[49m\u001b[43mvalue\u001b[49m\u001b[43m)\u001b[49m\n",
      "File \u001b[1;32mD:\\venv\\sim\\lib\\site-packages\\pandas\\core\\frame.py:3242\u001b[0m, in \u001b[0;36mDataFrame._set_item\u001b[1;34m(self, key, value)\u001b[0m\n\u001b[0;32m   3232\u001b[0m \u001b[38;5;124;03m\"\"\"\u001b[39;00m\n\u001b[0;32m   3233\u001b[0m \u001b[38;5;124;03mAdd series to DataFrame in specified column.\u001b[39;00m\n\u001b[0;32m   3234\u001b[0m \n\u001b[1;32m   (...)\u001b[0m\n\u001b[0;32m   3239\u001b[0m \u001b[38;5;124;03mensure homogeneity.\u001b[39;00m\n\u001b[0;32m   3240\u001b[0m \u001b[38;5;124;03m\"\"\"\u001b[39;00m\n\u001b[0;32m   3241\u001b[0m \u001b[38;5;28mself\u001b[39m\u001b[38;5;241m.\u001b[39m_ensure_valid_index(value)\n\u001b[1;32m-> 3242\u001b[0m value \u001b[38;5;241m=\u001b[39m \u001b[38;5;28;43mself\u001b[39;49m\u001b[38;5;241;43m.\u001b[39;49m\u001b[43m_sanitize_column\u001b[49m\u001b[43m(\u001b[49m\u001b[43mkey\u001b[49m\u001b[43m,\u001b[49m\u001b[43m \u001b[49m\u001b[43mvalue\u001b[49m\u001b[43m)\u001b[49m\n\u001b[0;32m   3243\u001b[0m NDFrame\u001b[38;5;241m.\u001b[39m_set_item(\u001b[38;5;28mself\u001b[39m, key, value)\n\u001b[0;32m   3245\u001b[0m \u001b[38;5;66;03m# check if we are modifying a copy\u001b[39;00m\n\u001b[0;32m   3246\u001b[0m \u001b[38;5;66;03m# try to set first as we want an invalid\u001b[39;00m\n\u001b[0;32m   3247\u001b[0m \u001b[38;5;66;03m# value exception to occur first\u001b[39;00m\n",
      "File \u001b[1;32mD:\\venv\\sim\\lib\\site-packages\\pandas\\core\\frame.py:3876\u001b[0m, in \u001b[0;36mDataFrame._sanitize_column\u001b[1;34m(self, key, value, broadcast)\u001b[0m\n\u001b[0;32m   3873\u001b[0m     \u001b[38;5;28;01mreturn\u001b[39;00m value\n\u001b[0;32m   3875\u001b[0m \u001b[38;5;28;01mif\u001b[39;00m \u001b[38;5;28misinstance\u001b[39m(value, Series):\n\u001b[1;32m-> 3876\u001b[0m     value \u001b[38;5;241m=\u001b[39m \u001b[43mreindexer\u001b[49m\u001b[43m(\u001b[49m\u001b[43mvalue\u001b[49m\u001b[43m)\u001b[49m\n\u001b[0;32m   3878\u001b[0m \u001b[38;5;28;01melif\u001b[39;00m \u001b[38;5;28misinstance\u001b[39m(value, DataFrame):\n\u001b[0;32m   3879\u001b[0m     \u001b[38;5;66;03m# align right-hand-side columns if self.columns\u001b[39;00m\n\u001b[0;32m   3880\u001b[0m     \u001b[38;5;66;03m# is multi-index and self[key] is a sub-frame\u001b[39;00m\n\u001b[0;32m   3881\u001b[0m     \u001b[38;5;28;01mif\u001b[39;00m \u001b[38;5;28misinstance\u001b[39m(\u001b[38;5;28mself\u001b[39m\u001b[38;5;241m.\u001b[39mcolumns, MultiIndex) \u001b[38;5;129;01mand\u001b[39;00m key \u001b[38;5;129;01min\u001b[39;00m \u001b[38;5;28mself\u001b[39m\u001b[38;5;241m.\u001b[39mcolumns:\n",
      "File \u001b[1;32mD:\\venv\\sim\\lib\\site-packages\\pandas\\core\\frame.py:3857\u001b[0m, in \u001b[0;36mDataFrame._sanitize_column.<locals>.reindexer\u001b[1;34m(value)\u001b[0m\n\u001b[0;32m   3853\u001b[0m \u001b[38;5;28;01mdef\u001b[39;00m \u001b[38;5;21mreindexer\u001b[39m(value):\n\u001b[0;32m   3854\u001b[0m     \u001b[38;5;66;03m# reindex if necessary\u001b[39;00m\n\u001b[0;32m   3856\u001b[0m     \u001b[38;5;28;01mif\u001b[39;00m value\u001b[38;5;241m.\u001b[39mindex\u001b[38;5;241m.\u001b[39mequals(\u001b[38;5;28mself\u001b[39m\u001b[38;5;241m.\u001b[39mindex) \u001b[38;5;129;01mor\u001b[39;00m \u001b[38;5;129;01mnot\u001b[39;00m \u001b[38;5;28mlen\u001b[39m(\u001b[38;5;28mself\u001b[39m\u001b[38;5;241m.\u001b[39mindex):\n\u001b[1;32m-> 3857\u001b[0m         value \u001b[38;5;241m=\u001b[39m \u001b[43mvalue\u001b[49m\u001b[38;5;241;43m.\u001b[39;49m\u001b[43m_values\u001b[49m\u001b[38;5;241;43m.\u001b[39;49m\u001b[43mcopy\u001b[49m\u001b[43m(\u001b[49m\u001b[43m)\u001b[49m\n\u001b[0;32m   3858\u001b[0m     \u001b[38;5;28;01melse\u001b[39;00m:\n\u001b[0;32m   3859\u001b[0m \n\u001b[0;32m   3860\u001b[0m         \u001b[38;5;66;03m# GH 4107\u001b[39;00m\n\u001b[0;32m   3861\u001b[0m         \u001b[38;5;28;01mtry\u001b[39;00m:\n",
      "\u001b[1;31mKeyboardInterrupt\u001b[0m: "
     ]
    }
   ],
   "source": [
    "ts = list(tarq.index)\n",
    "p, ys = sims[1]\n",
    "\n",
    "t_in = np.array([2019.875] + ts)\n",
    "y_in = np.ones_like(t_in)\n",
    "\n",
    "sims0 = sims[:50]\n",
    "\n",
    "for i, t in enumerate(t_in[2:], 2):\n",
    "#     if t > 2022:\n",
    "#         continue\n",
    "    \n",
    "    opt = minimize_scalar(fn, args=(sims0, tarq, t, i, t_in, y_in, ), method='bounded', bounds=[0.2, 1.5])\n",
    "    \n",
    "    # Update k_covid\n",
    "    y_in[i] = opt.x\n",
    "    k_covid = interp1d(t_in, y_in, kind='nearest', bounds_error=False, fill_value=1)\n",
    "\n",
    "    sims1 = list()\n",
    "    print(t, i, opt.x)\n",
    "    for p, ys in sims0:\n",
    "        p['k_covid'] = k_covid\n",
    "        ys1, _, _ = model.simulate_to_postCOVID(p, ys, t_eval=np.array([t - 1/8, t + 1/8]))\n",
    "        sims1.append((p, ys1))\n",
    "\n",
    "    sims0 = sims1\n"
   ]
  },
  {
   "cell_type": "code",
   "execution_count": 10,
   "id": "95343c05",
   "metadata": {},
   "outputs": [],
   "source": [
    "ts = list(tarq.index)\n",
    "ts += [ts[-1] + 1 / 4]\n",
    "ts = np.array(ts)\n",
    "\n",
    "k_covid = interp1d(t_in, y_in, kind='nearest', bounds_error=False, fill_value=1)\n",
    "\n",
    "mss = list()\n",
    "\n",
    "for i, (p, ys) in enumerate(sims):\n",
    "    p['k_covid'] = k_covid\n",
    "    _, ms, _ = model.simulate_to_postCOVID(p, ys, t_eval=ts)\n",
    "    mss.append(ms.assign(Key = i))\n",
    "\n",
    "mss = pd.concat(mss)"
   ]
  },
  {
   "cell_type": "code",
   "execution_count": 11,
   "id": "d258625d",
   "metadata": {},
   "outputs": [],
   "source": [
    "pd.DataFrame({'Time': t_in, 'k_covid': y_in}).to_csv(f'{out_folder}/k_covid.csv')"
   ]
  },
  {
   "cell_type": "code",
   "execution_count": 12,
   "id": "a92fb08c",
   "metadata": {},
   "outputs": [],
   "source": [
    "mss.to_csv(f'{out_folder}/RunPost.csv')"
   ]
  },
  {
   "cell_type": "code",
   "execution_count": 13,
   "id": "6f7f1882",
   "metadata": {},
   "outputs": [],
   "source": [
    "pss = pd.DataFrame([p for p, _ in sims])\n",
    "pss.to_csv(f'{out_folder}/Post.csv')"
   ]
  },
  {
   "cell_type": "code",
   "execution_count": null,
   "id": "4024b57c",
   "metadata": {},
   "outputs": [],
   "source": []
  }
 ],
 "metadata": {
  "kernelspec": {
   "display_name": "Python 3 (ipykernel)",
   "language": "python",
   "name": "python3"
  },
  "language_info": {
   "codemirror_mode": {
    "name": "ipython",
    "version": 3
   },
   "file_extension": ".py",
   "mimetype": "text/x-python",
   "name": "python",
   "nbconvert_exporter": "python",
   "pygments_lexer": "ipython3",
   "version": "3.9.5"
  }
 },
 "nbformat": 4,
 "nbformat_minor": 5
}
