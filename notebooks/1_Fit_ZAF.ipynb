{
 "cells": [
  {
   "cell_type": "code",
   "execution_count": 1,
   "id": "21bd41ec",
   "metadata": {},
   "outputs": [
    {
     "name": "stdout",
     "output_type": "stream",
     "text": [
      "D:\\Projects\\EpiTB\\tbdx23\n"
     ]
    }
   ],
   "source": [
    "%cd ../"
   ]
  },
  {
   "cell_type": "code",
   "execution_count": 2,
   "id": "b9b7c5a2",
   "metadata": {},
   "outputs": [],
   "source": [
    "import os\n",
    "from model.zaf.obj import *\n",
    "import pandas as pd\n",
    "from sims_pars.fitting import ApproxBayesComSMC"
   ]
  },
  {
   "cell_type": "code",
   "execution_count": 3,
   "id": "8bdcc728",
   "metadata": {},
   "outputs": [],
   "source": [
    "out_folder = 'out/A_ZAF'"
   ]
  },
  {
   "cell_type": "code",
   "execution_count": 4,
   "id": "691ea6ed",
   "metadata": {},
   "outputs": [],
   "source": [
    "os.makedirs(out_folder, exist_ok=True)"
   ]
  },
  {
   "cell_type": "code",
   "execution_count": 5,
   "id": "034f97cd",
   "metadata": {},
   "outputs": [
    {
     "name": "stdout",
     "output_type": "stream",
     "text": [
      "Domain(Name='rr_die_a', Type='Double', Lower=0.0, Upper=1.0)\n",
      "Domain(Name='beta', Type='Double', Lower=1.0, Upper=20.0)\n",
      "Domain(Name='rr_sus_slat', Type='Double', Lower=0.2, Upper=0.8)\n",
      "Domain(Name='rr_sus_rec', Type='Double', Lower=0.14, Upper=0.3)\n",
      "Domain(Name='r_onset', Type='Double', Lower=0.5, Upper=6.0)\n",
      "Domain(Name='p_primary', Type='Double', Lower=0.09, Upper=0.14)\n",
      "Domain(Name='r_clear', Type='Double', Lower=0.02, Upper=0.04)\n",
      "Domain(Name='r_sc', Type='Double', Lower=0.15, Upper=0.25)\n",
      "Domain(Name='r_react', Type='Double', Lower=0.0005, Upper=0.0015)\n",
      "Domain(Name='r_relapse', Type='Double', Lower=0.0011, Upper=0.002)\n",
      "Domain(Name='r_relapse_td', Type='Double', Lower=0.105, Upper=0.175)\n",
      "Domain(Name='r_relapse_tc', Type='Double', Lower=0.024, Upper=0.04)\n",
      "Domain(Name='irr_hiv', Type='Double', Lower=1.0, Upper=50.0)\n",
      "Domain(Name='r_csi', Type='Double', Lower=1.0, Upper=15.0)\n",
      "Domain(Name='r_recsi', Type='Double', Lower=1.0, Upper=15.0)\n",
      "Domain(Name='ppv', Type='Double', Lower=0.5, Upper=0.9)\n",
      "Domain(Name='irr_art', Type='Double', Lower=1.0, Upper=26.46878221171082)\n"
     ]
    }
   ],
   "source": [
    "obj = Objective.load('pars/ZAF')\n",
    "\n",
    "for do in obj.Domain:\n",
    "    print(do)\n",
    "\n",
    "p0 = obj.sample_prior()\n",
    "sim = obj.simulate(p0)"
   ]
  },
  {
   "cell_type": "code",
   "execution_count": 6,
   "id": "d79f577c",
   "metadata": {},
   "outputs": [],
   "source": [
    "alg = ApproxBayesComSMC(n_collect = 200, max_round = 30)"
   ]
  },
  {
   "cell_type": "code",
   "execution_count": 7,
   "id": "ef30c3cf",
   "metadata": {
    "scrolled": true
   },
   "outputs": [
    {
     "name": "stderr",
     "output_type": "stream",
     "text": [
      "13-03-2023 13:52:52 INFO: Initialising\n",
      "[Parallel(n_jobs=4)]: Using backend LokyBackend with 4 concurrent workers.\n",
      "[Parallel(n_jobs=4)]: Done  10 tasks      | elapsed:   11.1s\n",
      "[Parallel(n_jobs=4)]: Done  64 tasks      | elapsed:   39.7s\n",
      "[Parallel(n_jobs=4)]: Done 154 tasks      | elapsed:  1.5min\n",
      "[Parallel(n_jobs=4)]: Done 200 out of 200 | elapsed:  1.9min finished\n",
      "13-03-2023 13:54:50 INFO: Step to 1\n",
      "13-03-2023 13:54:50 INFO: Round 0, ESS 200.00\n",
      "[Parallel(n_jobs=4)]: Using backend LokyBackend with 4 concurrent workers.\n",
      "[Parallel(n_jobs=4)]: Done  10 tasks      | elapsed:   11.0s\n",
      "[Parallel(n_jobs=4)]: Done  64 tasks      | elapsed:   58.4s\n",
      "[Parallel(n_jobs=4)]: Done 154 tasks      | elapsed:  2.3min\n",
      "[Parallel(n_jobs=4)]: Done 200 out of 200 | elapsed:  2.9min finished\n",
      "13-03-2023 13:57:46 INFO: Step to 2\n",
      "13-03-2023 13:57:46 INFO: Round 1, ESS 180, Epsilon 1231.9779, Acceptance 91.0%\n",
      "[Parallel(n_jobs=4)]: Using backend LokyBackend with 4 concurrent workers.\n",
      "[Parallel(n_jobs=4)]: Done  10 tasks      | elapsed:   10.1s\n",
      "[Parallel(n_jobs=4)]: Done  64 tasks      | elapsed:   48.5s\n",
      "[Parallel(n_jobs=4)]: Done 154 tasks      | elapsed:  1.9min\n",
      "[Parallel(n_jobs=4)]: Done 200 out of 200 | elapsed:  2.4min finished\n",
      "13-03-2023 14:00:13 INFO: Step to 3\n",
      "13-03-2023 14:00:13 INFO: Round 2, ESS 165, Epsilon 898.1229, Acceptance 84.0%\n",
      "[Parallel(n_jobs=4)]: Using backend LokyBackend with 4 concurrent workers.\n",
      "[Parallel(n_jobs=4)]: Done  10 tasks      | elapsed:    8.3s\n",
      "[Parallel(n_jobs=4)]: Done  64 tasks      | elapsed:   45.9s\n",
      "[Parallel(n_jobs=4)]: Done 154 tasks      | elapsed:  2.0min\n",
      "[Parallel(n_jobs=4)]: Done 200 out of 200 | elapsed:  2.7min finished\n",
      "13-03-2023 14:03:00 INFO: Step to 4\n",
      "13-03-2023 14:03:00 INFO: Round 3, ESS 151, Epsilon 569.6494, Acceptance 79.0%\n",
      "[Parallel(n_jobs=4)]: Using backend LokyBackend with 4 concurrent workers.\n",
      "[Parallel(n_jobs=4)]: Done  10 tasks      | elapsed:   12.5s\n"
     ]
    },
    {
     "ename": "KeyboardInterrupt",
     "evalue": "",
     "output_type": "error",
     "traceback": [
      "\u001b[1;31m---------------------------------------------------------------------------\u001b[0m",
      "\u001b[1;31mKeyboardInterrupt\u001b[0m                         Traceback (most recent call last)",
      "Input \u001b[1;32mIn [7]\u001b[0m, in \u001b[0;36m<cell line: 1>\u001b[1;34m()\u001b[0m\n\u001b[1;32m----> 1\u001b[0m \u001b[43malg\u001b[49m\u001b[38;5;241;43m.\u001b[39;49m\u001b[43mfit\u001b[49m\u001b[43m(\u001b[49m\u001b[43mobj\u001b[49m\u001b[43m)\u001b[49m\n",
      "File \u001b[1;32mD:\\venv\\sim\\lib\\site-packages\\sims_pars\\fitting\\fitter.py:81\u001b[0m, in \u001b[0;36mFitter.fit\u001b[1;34m(self, model, **kwargs)\u001b[0m\n\u001b[0;32m     79\u001b[0m \u001b[38;5;28mself\u001b[39m\u001b[38;5;241m.\u001b[39mupdate_settings(\u001b[38;5;241m*\u001b[39m\u001b[38;5;241m*\u001b[39mkwargs)\n\u001b[0;32m     80\u001b[0m \u001b[38;5;28mself\u001b[39m\u001b[38;5;241m.\u001b[39minitialise()\n\u001b[1;32m---> 81\u001b[0m \u001b[38;5;28;43mself\u001b[39;49m\u001b[38;5;241;43m.\u001b[39;49m\u001b[43mupdate\u001b[49m\u001b[43m(\u001b[49m\u001b[43m)\u001b[49m\n\u001b[0;32m     82\u001b[0m \u001b[38;5;28mself\u001b[39m\u001b[38;5;241m.\u001b[39mcollect()\n",
      "File \u001b[1;32mD:\\venv\\sim\\lib\\site-packages\\sims_pars\\fitting\\abcsmc.py:86\u001b[0m, in \u001b[0;36mApproxBayesComSMC.update\u001b[1;34m(self, **kwargs)\u001b[0m\n\u001b[0;32m     84\u001b[0m \u001b[38;5;28mself\u001b[39m\u001b[38;5;241m.\u001b[39mupdate_wts(eps0, eps1)\n\u001b[0;32m     85\u001b[0m theta1 \u001b[38;5;241m=\u001b[39m \u001b[38;5;28mself\u001b[39m\u001b[38;5;241m.\u001b[39mresample()\n\u001b[1;32m---> 86\u001b[0m \u001b[38;5;28;43mself\u001b[39;49m\u001b[38;5;241;43m.\u001b[39;49m\u001b[43mmcmc_proposal\u001b[49m\u001b[43m(\u001b[49m\u001b[43mtheta1\u001b[49m\u001b[43m,\u001b[49m\u001b[43m \u001b[49m\u001b[43meps1\u001b[49m\u001b[43m)\u001b[49m\n\u001b[0;32m     88\u001b[0m \u001b[38;5;28;01mif\u001b[39;00m \u001b[38;5;28mself\u001b[39m\u001b[38;5;241m.\u001b[39mN_Round \u001b[38;5;241m>\u001b[39m\u001b[38;5;241m=\u001b[39m \u001b[38;5;28mself\u001b[39m\u001b[38;5;241m.\u001b[39mSettings[\u001b[38;5;124m'\u001b[39m\u001b[38;5;124mmax_round\u001b[39m\u001b[38;5;124m'\u001b[39m]:\n\u001b[0;32m     89\u001b[0m     \u001b[38;5;28;01mbreak\u001b[39;00m\n",
      "File \u001b[1;32mD:\\venv\\sim\\lib\\site-packages\\sims_pars\\fitting\\abcsmc.py:126\u001b[0m, in \u001b[0;36mApproxBayesComSMC.mcmc_proposal\u001b[1;34m(self, theta1, eps1)\u001b[0m\n\u001b[0;32m    124\u001b[0m \u001b[38;5;28;01mif\u001b[39;00m \u001b[38;5;28mself\u001b[39m\u001b[38;5;241m.\u001b[39mSettings[\u001b[38;5;124m'\u001b[39m\u001b[38;5;124mparallel\u001b[39m\u001b[38;5;124m'\u001b[39m]:\n\u001b[0;32m    125\u001b[0m     \u001b[38;5;28;01mwith\u001b[39;00m Parallel(n_jobs\u001b[38;5;241m=\u001b[39m\u001b[38;5;28mself\u001b[39m\u001b[38;5;241m.\u001b[39mSettings[\u001b[38;5;124m'\u001b[39m\u001b[38;5;124mn_core\u001b[39m\u001b[38;5;124m'\u001b[39m], verbose\u001b[38;5;241m=\u001b[39m\u001b[38;5;28mself\u001b[39m\u001b[38;5;241m.\u001b[39mSettings[\u001b[38;5;124m'\u001b[39m\u001b[38;5;124mverbose\u001b[39m\u001b[38;5;124m'\u001b[39m]) \u001b[38;5;28;01mas\u001b[39;00m parallel:\n\u001b[1;32m--> 126\u001b[0m         sample_p \u001b[38;5;241m=\u001b[39m \u001b[43mmutate_and_draw_parallel\u001b[49m\u001b[43m(\u001b[49m\u001b[38;5;28;43mself\u001b[39;49m\u001b[38;5;241;43m.\u001b[39;49m\u001b[43mModel\u001b[49m\u001b[43m,\u001b[49m\u001b[43m \u001b[49m\u001b[43mtheta1\u001b[49m\u001b[43m,\u001b[49m\u001b[43m \u001b[49m\u001b[43mtau\u001b[49m\u001b[43m,\u001b[49m\u001b[43m \u001b[49m\u001b[43mparallel\u001b[49m\u001b[43m)\u001b[49m\n\u001b[0;32m    127\u001b[0m \u001b[38;5;28;01melse\u001b[39;00m:\n\u001b[0;32m    128\u001b[0m     sample_p \u001b[38;5;241m=\u001b[39m [mutate_and_draw(\u001b[38;5;28mself\u001b[39m\u001b[38;5;241m.\u001b[39mModel, p, tau) \u001b[38;5;28;01mfor\u001b[39;00m p \u001b[38;5;129;01min\u001b[39;00m tqdm(theta1)]\n",
      "File \u001b[1;32mD:\\venv\\sim\\lib\\site-packages\\sims_pars\\fitting\\util.py:94\u001b[0m, in \u001b[0;36mmutate_and_draw_parallel\u001b[1;34m(obj, p0s, scale, parallel)\u001b[0m\n\u001b[0;32m     92\u001b[0m \u001b[38;5;28;01mdef\u001b[39;00m \u001b[38;5;21mmutate_and_draw_parallel\u001b[39m(obj: AbsObjective, p0s, scale, parallel: Parallel):\n\u001b[0;32m     93\u001b[0m     p0s_loc \u001b[38;5;241m=\u001b[39m [p0\u001b[38;5;241m.\u001b[39mLocus \u001b[38;5;28;01mfor\u001b[39;00m p0 \u001b[38;5;129;01min\u001b[39;00m p0s]\n\u001b[1;32m---> 94\u001b[0m     ps \u001b[38;5;241m=\u001b[39m \u001b[43mparallel\u001b[49m\u001b[43m(\u001b[49m\u001b[43mdelayed\u001b[49m\u001b[43m(\u001b[49m\u001b[43m__mutate_and_draw\u001b[49m\u001b[43m)\u001b[49m\u001b[43m(\u001b[49m\u001b[43mobj\u001b[49m\u001b[43m,\u001b[49m\u001b[43m \u001b[49m\u001b[43mp0\u001b[49m\u001b[43m,\u001b[49m\u001b[43m \u001b[49m\u001b[43mscale\u001b[49m\u001b[43m)\u001b[49m\u001b[43m \u001b[49m\u001b[38;5;28;43;01mfor\u001b[39;49;00m\u001b[43m \u001b[49m\u001b[43mp0\u001b[49m\u001b[43m \u001b[49m\u001b[38;5;129;43;01min\u001b[39;49;00m\u001b[43m \u001b[49m\u001b[43mp0s_loc\u001b[49m\u001b[43m)\u001b[49m\n\u001b[0;32m     95\u001b[0m     \u001b[38;5;28;01mreturn\u001b[39;00m [(obj\u001b[38;5;241m.\u001b[39mserve_from_json(p), i) \u001b[38;5;28;01mfor\u001b[39;00m p, i \u001b[38;5;129;01min\u001b[39;00m ps]\n",
      "File \u001b[1;32mD:\\venv\\sim\\lib\\site-packages\\joblib\\parallel.py:1054\u001b[0m, in \u001b[0;36mParallel.__call__\u001b[1;34m(self, iterable)\u001b[0m\n\u001b[0;32m   1051\u001b[0m     \u001b[38;5;28mself\u001b[39m\u001b[38;5;241m.\u001b[39m_iterating \u001b[38;5;241m=\u001b[39m \u001b[38;5;28;01mFalse\u001b[39;00m\n\u001b[0;32m   1053\u001b[0m \u001b[38;5;28;01mwith\u001b[39;00m \u001b[38;5;28mself\u001b[39m\u001b[38;5;241m.\u001b[39m_backend\u001b[38;5;241m.\u001b[39mretrieval_context():\n\u001b[1;32m-> 1054\u001b[0m     \u001b[38;5;28;43mself\u001b[39;49m\u001b[38;5;241;43m.\u001b[39;49m\u001b[43mretrieve\u001b[49m\u001b[43m(\u001b[49m\u001b[43m)\u001b[49m\n\u001b[0;32m   1055\u001b[0m \u001b[38;5;66;03m# Make sure that we get a last message telling us we are done\u001b[39;00m\n\u001b[0;32m   1056\u001b[0m elapsed_time \u001b[38;5;241m=\u001b[39m time\u001b[38;5;241m.\u001b[39mtime() \u001b[38;5;241m-\u001b[39m \u001b[38;5;28mself\u001b[39m\u001b[38;5;241m.\u001b[39m_start_time\n",
      "File \u001b[1;32mD:\\venv\\sim\\lib\\site-packages\\joblib\\parallel.py:933\u001b[0m, in \u001b[0;36mParallel.retrieve\u001b[1;34m(self)\u001b[0m\n\u001b[0;32m    931\u001b[0m \u001b[38;5;28;01mtry\u001b[39;00m:\n\u001b[0;32m    932\u001b[0m     \u001b[38;5;28;01mif\u001b[39;00m \u001b[38;5;28mgetattr\u001b[39m(\u001b[38;5;28mself\u001b[39m\u001b[38;5;241m.\u001b[39m_backend, \u001b[38;5;124m'\u001b[39m\u001b[38;5;124msupports_timeout\u001b[39m\u001b[38;5;124m'\u001b[39m, \u001b[38;5;28;01mFalse\u001b[39;00m):\n\u001b[1;32m--> 933\u001b[0m         \u001b[38;5;28mself\u001b[39m\u001b[38;5;241m.\u001b[39m_output\u001b[38;5;241m.\u001b[39mextend(\u001b[43mjob\u001b[49m\u001b[38;5;241;43m.\u001b[39;49m\u001b[43mget\u001b[49m\u001b[43m(\u001b[49m\u001b[43mtimeout\u001b[49m\u001b[38;5;241;43m=\u001b[39;49m\u001b[38;5;28;43mself\u001b[39;49m\u001b[38;5;241;43m.\u001b[39;49m\u001b[43mtimeout\u001b[49m\u001b[43m)\u001b[49m)\n\u001b[0;32m    934\u001b[0m     \u001b[38;5;28;01melse\u001b[39;00m:\n\u001b[0;32m    935\u001b[0m         \u001b[38;5;28mself\u001b[39m\u001b[38;5;241m.\u001b[39m_output\u001b[38;5;241m.\u001b[39mextend(job\u001b[38;5;241m.\u001b[39mget())\n",
      "File \u001b[1;32mD:\\venv\\sim\\lib\\site-packages\\joblib\\_parallel_backends.py:542\u001b[0m, in \u001b[0;36mLokyBackend.wrap_future_result\u001b[1;34m(future, timeout)\u001b[0m\n\u001b[0;32m    539\u001b[0m \u001b[38;5;124;03m\"\"\"Wrapper for Future.result to implement the same behaviour as\u001b[39;00m\n\u001b[0;32m    540\u001b[0m \u001b[38;5;124;03mAsyncResults.get from multiprocessing.\"\"\"\u001b[39;00m\n\u001b[0;32m    541\u001b[0m \u001b[38;5;28;01mtry\u001b[39;00m:\n\u001b[1;32m--> 542\u001b[0m     \u001b[38;5;28;01mreturn\u001b[39;00m \u001b[43mfuture\u001b[49m\u001b[38;5;241;43m.\u001b[39;49m\u001b[43mresult\u001b[49m\u001b[43m(\u001b[49m\u001b[43mtimeout\u001b[49m\u001b[38;5;241;43m=\u001b[39;49m\u001b[43mtimeout\u001b[49m\u001b[43m)\u001b[49m\n\u001b[0;32m    543\u001b[0m \u001b[38;5;28;01mexcept\u001b[39;00m CfTimeoutError \u001b[38;5;28;01mas\u001b[39;00m e:\n\u001b[0;32m    544\u001b[0m     \u001b[38;5;28;01mraise\u001b[39;00m \u001b[38;5;167;01mTimeoutError\u001b[39;00m \u001b[38;5;28;01mfrom\u001b[39;00m \u001b[38;5;21;01me\u001b[39;00m\n",
      "File \u001b[1;32mD:\\venv\\sim\\lib\\concurrent\\futures\\_base.py:440\u001b[0m, in \u001b[0;36mFuture.result\u001b[1;34m(self, timeout)\u001b[0m\n\u001b[0;32m    437\u001b[0m \u001b[38;5;28;01melif\u001b[39;00m \u001b[38;5;28mself\u001b[39m\u001b[38;5;241m.\u001b[39m_state \u001b[38;5;241m==\u001b[39m FINISHED:\n\u001b[0;32m    438\u001b[0m     \u001b[38;5;28;01mreturn\u001b[39;00m \u001b[38;5;28mself\u001b[39m\u001b[38;5;241m.\u001b[39m__get_result()\n\u001b[1;32m--> 440\u001b[0m \u001b[38;5;28;43mself\u001b[39;49m\u001b[38;5;241;43m.\u001b[39;49m\u001b[43m_condition\u001b[49m\u001b[38;5;241;43m.\u001b[39;49m\u001b[43mwait\u001b[49m\u001b[43m(\u001b[49m\u001b[43mtimeout\u001b[49m\u001b[43m)\u001b[49m\n\u001b[0;32m    442\u001b[0m \u001b[38;5;28;01mif\u001b[39;00m \u001b[38;5;28mself\u001b[39m\u001b[38;5;241m.\u001b[39m_state \u001b[38;5;129;01min\u001b[39;00m [CANCELLED, CANCELLED_AND_NOTIFIED]:\n\u001b[0;32m    443\u001b[0m     \u001b[38;5;28;01mraise\u001b[39;00m CancelledError()\n",
      "File \u001b[1;32mD:\\venv\\sim\\lib\\threading.py:312\u001b[0m, in \u001b[0;36mCondition.wait\u001b[1;34m(self, timeout)\u001b[0m\n\u001b[0;32m    310\u001b[0m \u001b[38;5;28;01mtry\u001b[39;00m:    \u001b[38;5;66;03m# restore state no matter what (e.g., KeyboardInterrupt)\u001b[39;00m\n\u001b[0;32m    311\u001b[0m     \u001b[38;5;28;01mif\u001b[39;00m timeout \u001b[38;5;129;01mis\u001b[39;00m \u001b[38;5;28;01mNone\u001b[39;00m:\n\u001b[1;32m--> 312\u001b[0m         \u001b[43mwaiter\u001b[49m\u001b[38;5;241;43m.\u001b[39;49m\u001b[43macquire\u001b[49m\u001b[43m(\u001b[49m\u001b[43m)\u001b[49m\n\u001b[0;32m    313\u001b[0m         gotit \u001b[38;5;241m=\u001b[39m \u001b[38;5;28;01mTrue\u001b[39;00m\n\u001b[0;32m    314\u001b[0m     \u001b[38;5;28;01melse\u001b[39;00m:\n",
      "\u001b[1;31mKeyboardInterrupt\u001b[0m: "
     ]
    }
   ],
   "source": [
    "alg.fit(obj)"
   ]
  },
  {
   "cell_type": "code",
   "execution_count": 6,
   "id": "4568f1ce",
   "metadata": {},
   "outputs": [
    {
     "ename": "NameError",
     "evalue": "name 'alg' is not defined",
     "output_type": "error",
     "traceback": [
      "\u001b[1;31m---------------------------------------------------------------------------\u001b[0m",
      "\u001b[1;31mNameError\u001b[0m                                 Traceback (most recent call last)",
      "\u001b[1;32m<ipython-input-6-71e7b9fe3624>\u001b[0m in \u001b[0;36m<module>\u001b[1;34m\u001b[0m\n\u001b[1;32m----> 1\u001b[1;33m \u001b[0mpost\u001b[0m \u001b[1;33m=\u001b[0m \u001b[1;33m[\u001b[0m\u001b[0mobj\u001b[0m\u001b[1;33m.\u001b[0m\u001b[0msimulate\u001b[0m\u001b[1;33m(\u001b[0m\u001b[0mp\u001b[0m\u001b[1;33m)\u001b[0m \u001b[1;32mfor\u001b[0m \u001b[0mp\u001b[0m \u001b[1;32min\u001b[0m \u001b[0malg\u001b[0m\u001b[1;33m.\u001b[0m\u001b[0mCollector\u001b[0m\u001b[1;33m.\u001b[0m\u001b[0mParameterList\u001b[0m\u001b[1;33m]\u001b[0m\u001b[1;33m\u001b[0m\u001b[1;33m\u001b[0m\u001b[0m\n\u001b[0m",
      "\u001b[1;31mNameError\u001b[0m: name 'alg' is not defined"
     ]
    }
   ],
   "source": [
    "post = [obj.simulate(p) for p in alg.Collector.ParameterList]"
   ]
  },
  {
   "cell_type": "code",
   "execution_count": null,
   "id": "aac17fde",
   "metadata": {},
   "outputs": [],
   "source": [
    "pss = pd.DataFrame([dict(p) for p in alg.Collector.ParameterList])\n",
    "pss.to_csv(f'{out_folder}/Post.csv')\n",
    "pss.to_csv(f'docs/tabs/PostZAF.csv')"
   ]
  },
  {
   "cell_type": "code",
   "execution_count": null,
   "id": "468797eb",
   "metadata": {},
   "outputs": [],
   "source": [
    "mss = pd.concat([ms.assign(Key = i) for i, (_, ms, _) in enumerate(post)])\n",
    "mss.to_csv(f'{out_folder}/RunPost.csv')"
   ]
  },
  {
   "cell_type": "code",
   "execution_count": null,
   "id": "606e584b",
   "metadata": {},
   "outputs": [],
   "source": []
  }
 ],
 "metadata": {
  "kernelspec": {
   "display_name": "Python 3 (ipykernel)",
   "language": "python",
   "name": "python3"
  },
  "language_info": {
   "codemirror_mode": {
    "name": "ipython",
    "version": 3
   },
   "file_extension": ".py",
   "mimetype": "text/x-python",
   "name": "python",
   "nbconvert_exporter": "python",
   "pygments_lexer": "ipython3",
   "version": "3.9.5"
  }
 },
 "nbformat": 4,
 "nbformat_minor": 5
}
