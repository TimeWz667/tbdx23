{
 "cells": [
  {
   "cell_type": "code",
   "execution_count": 1,
   "id": "21bd41ec",
   "metadata": {},
   "outputs": [
    {
     "name": "stdout",
     "output_type": "stream",
     "text": [
      "D:\\Projects\\EpiTB\\tbdx23\n"
     ]
    }
   ],
   "source": [
    "%cd ../"
   ]
  },
  {
   "cell_type": "code",
   "execution_count": 2,
   "id": "b9b7c5a2",
   "metadata": {},
   "outputs": [],
   "source": [
    "import os\n",
    "from model.zaf.obj import *\n",
    "import pandas as pd\n",
    "from sims_pars.fitting import ApproxBayesComSMC"
   ]
  },
  {
   "cell_type": "code",
   "execution_count": 3,
   "id": "8bdcc728",
   "metadata": {},
   "outputs": [],
   "source": [
    "out_folder = 'out/A_ZAF'"
   ]
  },
  {
   "cell_type": "code",
   "execution_count": 4,
   "id": "691ea6ed",
   "metadata": {},
   "outputs": [],
   "source": [
    "os.makedirs(out_folder, exist_ok=True)"
   ]
  },
  {
   "cell_type": "code",
   "execution_count": 5,
   "id": "034f97cd",
   "metadata": {},
   "outputs": [
    {
     "name": "stdout",
     "output_type": "stream",
     "text": [
      "Domain(Name='rr_die_a', Type='Double', Lower=0.0, Upper=1.0)\n",
      "Domain(Name='beta', Type='Double', Lower=1.0, Upper=20.0)\n",
      "Domain(Name='rr_sus_slat', Type='Double', Lower=0.2, Upper=0.8)\n",
      "Domain(Name='rr_sus_rec', Type='Double', Lower=0.14, Upper=0.3)\n",
      "Domain(Name='r_onset', Type='Double', Lower=0.5, Upper=6.0)\n",
      "Domain(Name='p_primary', Type='Double', Lower=0.09, Upper=0.14)\n",
      "Domain(Name='r_clear', Type='Double', Lower=0.02, Upper=0.04)\n",
      "Domain(Name='r_sc', Type='Double', Lower=0.15, Upper=0.25)\n",
      "Domain(Name='r_react', Type='Double', Lower=0.0005, Upper=0.0015)\n",
      "Domain(Name='r_relapse', Type='Double', Lower=0.0011, Upper=0.002)\n",
      "Domain(Name='r_relapse_td', Type='Double', Lower=0.105, Upper=0.175)\n",
      "Domain(Name='r_relapse_tc', Type='Double', Lower=0.024, Upper=0.04)\n",
      "Domain(Name='irr_hiv', Type='Double', Lower=1.0, Upper=50.0)\n",
      "Domain(Name='r_csi', Type='Double', Lower=1.0, Upper=15.0)\n",
      "Domain(Name='r_recsi', Type='Double', Lower=1.0, Upper=15.0)\n",
      "Domain(Name='ppv', Type='Double', Lower=0.5, Upper=0.9)\n",
      "Domain(Name='irr_art', Type='Double', Lower=1.0, Upper=26.46878221171082)\n"
     ]
    }
   ],
   "source": [
    "obj = Objective.load('pars/ZAF')\n",
    "\n",
    "for do in obj.Domain:\n",
    "    print(do)\n",
    "\n",
    "p0 = obj.sample_prior()\n",
    "sim = obj.simulate(p0)"
   ]
  },
  {
   "cell_type": "code",
   "execution_count": 6,
   "id": "d79f577c",
   "metadata": {},
   "outputs": [],
   "source": [
    "alg = ApproxBayesComSMC(n_collect = 200, max_round = 30)"
   ]
  },
  {
   "cell_type": "code",
   "execution_count": null,
   "id": "ef30c3cf",
   "metadata": {
    "scrolled": true
   },
   "outputs": [
    {
     "name": "stderr",
     "output_type": "stream",
     "text": [
      "13-03-2023 13:52:52 INFO: Initialising\n",
      "[Parallel(n_jobs=4)]: Using backend LokyBackend with 4 concurrent workers.\n",
      "[Parallel(n_jobs=4)]: Done  10 tasks      | elapsed:   11.1s\n",
      "[Parallel(n_jobs=4)]: Done  64 tasks      | elapsed:   39.7s\n",
      "[Parallel(n_jobs=4)]: Done 154 tasks      | elapsed:  1.5min\n",
      "[Parallel(n_jobs=4)]: Done 200 out of 200 | elapsed:  1.9min finished\n",
      "13-03-2023 13:54:50 INFO: Step to 1\n",
      "13-03-2023 13:54:50 INFO: Round 0, ESS 200.00\n",
      "[Parallel(n_jobs=4)]: Using backend LokyBackend with 4 concurrent workers.\n",
      "[Parallel(n_jobs=4)]: Done  10 tasks      | elapsed:   11.0s\n",
      "[Parallel(n_jobs=4)]: Done  64 tasks      | elapsed:   58.4s\n",
      "[Parallel(n_jobs=4)]: Done 154 tasks      | elapsed:  2.3min\n",
      "[Parallel(n_jobs=4)]: Done 200 out of 200 | elapsed:  2.9min finished\n",
      "13-03-2023 13:57:46 INFO: Step to 2\n",
      "13-03-2023 13:57:46 INFO: Round 1, ESS 180, Epsilon 1231.9779, Acceptance 91.0%\n",
      "[Parallel(n_jobs=4)]: Using backend LokyBackend with 4 concurrent workers.\n",
      "[Parallel(n_jobs=4)]: Done  10 tasks      | elapsed:   10.1s\n",
      "[Parallel(n_jobs=4)]: Done  64 tasks      | elapsed:   48.5s\n",
      "[Parallel(n_jobs=4)]: Done 154 tasks      | elapsed:  1.9min\n",
      "[Parallel(n_jobs=4)]: Done 200 out of 200 | elapsed:  2.4min finished\n",
      "13-03-2023 14:00:13 INFO: Step to 3\n",
      "13-03-2023 14:00:13 INFO: Round 2, ESS 165, Epsilon 898.1229, Acceptance 84.0%\n",
      "[Parallel(n_jobs=4)]: Using backend LokyBackend with 4 concurrent workers.\n",
      "[Parallel(n_jobs=4)]: Done  10 tasks      | elapsed:    8.3s\n",
      "[Parallel(n_jobs=4)]: Done  64 tasks      | elapsed:   45.9s\n",
      "[Parallel(n_jobs=4)]: Done 154 tasks      | elapsed:  2.0min\n",
      "[Parallel(n_jobs=4)]: Done 200 out of 200 | elapsed:  2.7min finished\n",
      "13-03-2023 14:03:00 INFO: Step to 4\n",
      "13-03-2023 14:03:00 INFO: Round 3, ESS 151, Epsilon 569.6494, Acceptance 79.0%\n",
      "[Parallel(n_jobs=4)]: Using backend LokyBackend with 4 concurrent workers.\n",
      "[Parallel(n_jobs=4)]: Done  10 tasks      | elapsed:   12.5s\n"
     ]
    }
   ],
   "source": [
    "alg.fit(obj)"
   ]
  },
  {
   "cell_type": "code",
   "execution_count": 6,
   "id": "4568f1ce",
   "metadata": {},
   "outputs": [
    {
     "ename": "NameError",
     "evalue": "name 'alg' is not defined",
     "output_type": "error",
     "traceback": [
      "\u001b[1;31m---------------------------------------------------------------------------\u001b[0m",
      "\u001b[1;31mNameError\u001b[0m                                 Traceback (most recent call last)",
      "\u001b[1;32m<ipython-input-6-71e7b9fe3624>\u001b[0m in \u001b[0;36m<module>\u001b[1;34m\u001b[0m\n\u001b[1;32m----> 1\u001b[1;33m \u001b[0mpost\u001b[0m \u001b[1;33m=\u001b[0m \u001b[1;33m[\u001b[0m\u001b[0mobj\u001b[0m\u001b[1;33m.\u001b[0m\u001b[0msimulate\u001b[0m\u001b[1;33m(\u001b[0m\u001b[0mp\u001b[0m\u001b[1;33m)\u001b[0m \u001b[1;32mfor\u001b[0m \u001b[0mp\u001b[0m \u001b[1;32min\u001b[0m \u001b[0malg\u001b[0m\u001b[1;33m.\u001b[0m\u001b[0mCollector\u001b[0m\u001b[1;33m.\u001b[0m\u001b[0mParameterList\u001b[0m\u001b[1;33m]\u001b[0m\u001b[1;33m\u001b[0m\u001b[1;33m\u001b[0m\u001b[0m\n\u001b[0m",
      "\u001b[1;31mNameError\u001b[0m: name 'alg' is not defined"
     ]
    }
   ],
   "source": [
    "post = [obj.simulate(p) for p in alg.Collector.ParameterList]"
   ]
  },
  {
   "cell_type": "code",
   "execution_count": null,
   "id": "aac17fde",
   "metadata": {},
   "outputs": [],
   "source": [
    "pss = pd.DataFrame([dict(p) for p in alg.Collector.ParameterList])\n",
    "pss.to_csv(f'{out_folder}/Post.csv')\n",
    "pss.to_csv(f'docs/tabs/PostZAF.csv')"
   ]
  },
  {
   "cell_type": "code",
   "execution_count": null,
   "id": "468797eb",
   "metadata": {},
   "outputs": [],
   "source": [
    "mss = pd.concat([ms.assign(Key = i) for i, (_, ms, _) in enumerate(post)])\n",
    "mss.to_csv(f'{out_folder}/RunPost.csv')"
   ]
  },
  {
   "cell_type": "code",
   "execution_count": null,
   "id": "606e584b",
   "metadata": {},
   "outputs": [],
   "source": []
  }
 ],
 "metadata": {
  "kernelspec": {
   "display_name": "Python 3 (ipykernel)",
   "language": "python",
   "name": "python3"
  },
  "language_info": {
   "codemirror_mode": {
    "name": "ipython",
    "version": 3
   },
   "file_extension": ".py",
   "mimetype": "text/x-python",
   "name": "python",
   "nbconvert_exporter": "python",
   "pygments_lexer": "ipython3",
   "version": "3.9.5"
  }
 },
 "nbformat": 4,
 "nbformat_minor": 5
}
