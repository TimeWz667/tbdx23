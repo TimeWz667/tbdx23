{
 "cells": [
  {
   "cell_type": "code",
   "execution_count": 1,
   "id": "81bc5795",
   "metadata": {
    "tags": []
   },
   "outputs": [],
   "source": [
    "import os\n",
    "import pandas as pd\n",
    "import numpy as np\n",
    "from sim.core.cascade import RepoCascade\n",
    "from sim.core.inputs import load_inputs, load_k_covid\n",
    "from sim.zaf.dhiv import ModelHIV, get_intv"
   ]
  },
  {
   "cell_type": "code",
   "execution_count": 2,
   "id": "e3f6857b",
   "metadata": {
    "tags": []
   },
   "outputs": [],
   "source": [
    "iso = 'ZAF'\n",
    "in_folder = f'results/D_{iso}'\n",
    "out_folder = f'results/I_{iso}'"
   ]
  },
  {
   "cell_type": "code",
   "execution_count": 3,
   "id": "24f791f3",
   "metadata": {
    "tags": []
   },
   "outputs": [],
   "source": [
    "os.makedirs(out_folder, exist_ok=True)"
   ]
  },
  {
   "cell_type": "code",
   "execution_count": 4,
   "id": "52ecc429",
   "metadata": {
    "tags": []
   },
   "outputs": [],
   "source": [
    "pars_cs = pd.read_csv(f'data/pars_{iso}.csv')\n",
    "repo_cs = RepoCascade(pars_cs, 2010)\n",
    "k_covid = load_k_covid(f'{in_folder}/k_covid.csv')\n",
    "\n",
    "inp = load_inputs(f'data/pars/{iso}')\n",
    "model = ModelHIV(inp)"
   ]
  },
  {
   "cell_type": "code",
   "execution_count": 5,
   "id": "8ddc8583",
   "metadata": {
    "tags": []
   },
   "outputs": [],
   "source": [
    "particles = pd.read_csv(f'{in_folder}/Post.csv')\n",
    "particles = [dict(row) for _, row in particles.iterrows()]\n",
    "\n",
    "particles = particles"
   ]
  },
  {
   "cell_type": "code",
   "execution_count": 6,
   "id": "a49d3f3a",
   "metadata": {
    "tags": []
   },
   "outputs": [],
   "source": [
    "baseline = list()\n",
    "for i, p in enumerate(particles):\n",
    "    p['cas'] = repo_cs.sample()\n",
    "    p['k_covid'] = k_covid\n",
    "    ys, ms, _ = model.simulate_to_fit(p, t_eval=np.linspace(2015, 2022, 8))\n",
    "    baseline.append((p, ys, ms.assign(Key = i, Scenario = 'Baseline')))"
   ]
  },
  {
   "cell_type": "code",
   "execution_count": 7,
   "id": "14521f38",
   "metadata": {},
   "outputs": [],
   "source": [
    "rd0 = 2\n",
    "scs = {\n",
    "    'ACF2_b': lambda p: get_intv(p, rd_csi=rd0, rd_recsi=rd0),\n",
    "    'Dx90_ACF2_b': lambda p: get_intv(p, pdx0=0.9, pdx1=0.9, rd_csi=rd0, rd_recsi=rd0, r_asym_acf=0.1)\n",
    "}\n",
    "\n",
    "rd1 = 2 / 0.45 * 0.8\n",
    "scs.update({\n",
    "    'ACF2_cxr': lambda p: get_intv(p, rd_csi=rd1, rd_recsi=rd1),\n",
    "    'Dx90_ACF2_cxr': lambda p: get_intv(p, pdx0=0.9, pdx1=0.9, rd_csi=rd1, rd_recsi=rd1, r_asym_acf=0.1)\n",
    "})\n",
    "\n",
    "rd2 = 2 / 0.45 * 0.95\n",
    "scs.update({\n",
    "    'ACF2_xpert': lambda p: get_intv(p, rd_csi=rd2, rd_recsi=rd2),\n",
    "    'Dx90_ACF2_xpert': lambda p: get_intv(p, pdx0=0.9, pdx1=0.9, rd_csi=rd2, rd_recsi=rd2, r_asym_acf=0.1)\n",
    "})"
   ]
  },
  {
   "cell_type": "code",
   "execution_count": 8,
   "id": "b8ff0e34",
   "metadata": {},
   "outputs": [],
   "source": [
    "intvs = list()\n",
    "\n",
    "for i, (p, ys, _) in enumerate(baseline):\n",
    "    _, ms0, _ = model.simulate_intv(p, ys)\n",
    "    intvs.append(ms0.assign(Key = i, Scenario = 'Baseline'))\n",
    "    \n",
    "    for k, sc in scs.items():\n",
    "        intv = sc(p)\n",
    "        _, ms1, _ = model.simulate_intv(p, ys, intv)\n",
    "        intvs.append(ms1.assign(Key = i, Scenario = k))\n",
    "\n",
    "intvs = pd.concat(intvs)"
   ]
  },
  {
   "cell_type": "code",
   "execution_count": 9,
   "id": "9e33aa46",
   "metadata": {},
   "outputs": [],
   "source": [
    "intvs.to_csv(f'{out_folder}/RunSens.csv')"
   ]
  },
  {
   "cell_type": "code",
   "execution_count": 10,
   "id": "b682ae83",
   "metadata": {},
   "outputs": [
    {
     "data": {
      "text/plain": [
       "4900"
      ]
     },
     "execution_count": 10,
     "metadata": {},
     "output_type": "execute_result"
    }
   ],
   "source": [
    "len(intvs)"
   ]
  },
  {
   "cell_type": "code",
   "execution_count": null,
   "id": "1adc4b91-a0bd-4d8f-93d9-e931d83b2765",
   "metadata": {},
   "outputs": [],
   "source": []
  }
 ],
 "metadata": {
  "kernelspec": {
   "display_name": "Python 3 (ipykernel)",
   "language": "python",
   "name": "python3"
  },
  "language_info": {
   "codemirror_mode": {
    "name": "ipython",
    "version": 3
   },
   "file_extension": ".py",
   "mimetype": "text/x-python",
   "name": "python",
   "nbconvert_exporter": "python",
   "pygments_lexer": "ipython3",
   "version": "3.10.9"
  }
 },
 "nbformat": 4,
 "nbformat_minor": 5
}
