{
 "cells": [
  {
   "cell_type": "code",
   "execution_count": 1,
   "id": "06d5a912",
   "metadata": {},
   "outputs": [
    {
     "name": "stdout",
     "output_type": "stream",
     "text": [
      "D:\\Projects\\EpiTB\\tbdx23\n"
     ]
    }
   ],
   "source": [
    "%cd ../"
   ]
  },
  {
   "cell_type": "code",
   "execution_count": 2,
   "id": "6bd1ac44",
   "metadata": {},
   "outputs": [],
   "source": [
    "import os\n",
    "from sim.core.obj import *\n",
    "import pandas as pd\n",
    "from sims_pars.fitting import ApproxBayesComSMC, ApproxBayesCom"
   ]
  },
  {
   "cell_type": "code",
   "execution_count": 3,
   "id": "3e70b9ee",
   "metadata": {},
   "outputs": [],
   "source": [
    "out_folder = 'results/A_IND'"
   ]
  },
  {
   "cell_type": "code",
   "execution_count": 4,
   "id": "2b69abe9",
   "metadata": {},
   "outputs": [],
   "source": [
    "os.makedirs(out_folder, exist_ok=True)"
   ]
  },
  {
   "cell_type": "code",
   "execution_count": 5,
   "id": "6c9a705d",
   "metadata": {},
   "outputs": [
    {
     "name": "stdout",
     "output_type": "stream",
     "text": [
      "Domain(Name='beta', Type='Double', Lower=1.0, Upper=20.0)\n",
      "Domain(Name='rr_sus_slat', Type='Double', Lower=0.2, Upper=0.8)\n",
      "Domain(Name='rr_sus_rec', Type='Double', Lower=0.14, Upper=0.31)\n",
      "Domain(Name='r_clear', Type='Double', Lower=0.02, Upper=0.04)\n",
      "Domain(Name='r_sc', Type='Double', Lower=0.15, Upper=0.25)\n",
      "Domain(Name='adr', Type='Double', Lower=0.0, Upper=0.05)\n"
     ]
    }
   ],
   "source": [
    "obj = load_objective('data/pars/IND', 'results/pars_IND.csv')\n",
    "\n",
    "for do in obj.Domain:\n",
    "    print(do)\n",
    "\n",
    "p0 = obj.sample_prior()\n",
    "sim = obj.simulate(p0)"
   ]
  },
  {
   "cell_type": "code",
   "execution_count": 6,
   "id": "88b293cd",
   "metadata": {},
   "outputs": [],
   "source": [
    "alg = ApproxBayesComSMC(n_collect = 200, max_round = 35)"
   ]
  },
  {
   "cell_type": "code",
   "execution_count": 7,
   "id": "60219910",
   "metadata": {},
   "outputs": [],
   "source": [
    "# alg = ApproxBayesCom(n_collect = 300)"
   ]
  },
  {
   "cell_type": "code",
   "execution_count": 8,
   "id": "c7873c70",
   "metadata": {
    "scrolled": true
   },
   "outputs": [
    {
     "name": "stderr",
     "output_type": "stream",
     "text": [
      "09-02-2023 22:10:49 INFO: Initialising\n",
      "[Parallel(n_jobs=4)]: Using backend LokyBackend with 4 concurrent workers.\n",
      "[Parallel(n_jobs=4)]: Done  10 tasks      | elapsed:    5.6s\n",
      "[Parallel(n_jobs=4)]: Done  64 tasks      | elapsed:   12.6s\n",
      "[Parallel(n_jobs=4)]: Done 150 out of 150 | elapsed:   23.3s finished\n",
      "09-02-2023 22:11:13 INFO: Step to 1\n",
      "09-02-2023 22:11:13 INFO: Round 0, ESS 150.00\n",
      "[Parallel(n_jobs=4)]: Using backend LokyBackend with 4 concurrent workers.\n",
      "[Parallel(n_jobs=4)]: Done  10 tasks      | elapsed:    1.7s\n",
      "[Parallel(n_jobs=4)]: Done  64 tasks      | elapsed:    9.5s\n",
      "[Parallel(n_jobs=4)]: Done 150 out of 150 | elapsed:   20.5s finished\n",
      "09-02-2023 22:11:34 INFO: Step to 2\n",
      "09-02-2023 22:11:34 INFO: Round 1, ESS 135, Epsilon 824.6727, Acceptance 87.3%\n",
      "[Parallel(n_jobs=4)]: Using backend LokyBackend with 4 concurrent workers.\n",
      "[Parallel(n_jobs=4)]: Done  10 tasks      | elapsed:    1.5s\n",
      "[Parallel(n_jobs=4)]: Done  64 tasks      | elapsed:    8.3s\n",
      "[Parallel(n_jobs=4)]: Done 150 out of 150 | elapsed:   19.2s finished\n",
      "09-02-2023 22:11:54 INFO: Step to 3\n",
      "09-02-2023 22:11:54 INFO: Round 2, ESS 122, Epsilon 390.7421, Acceptance 86.7%\n",
      "[Parallel(n_jobs=4)]: Using backend LokyBackend with 4 concurrent workers.\n",
      "[Parallel(n_jobs=4)]: Done  10 tasks      | elapsed:    1.6s\n",
      "[Parallel(n_jobs=4)]: Done  64 tasks      | elapsed:    8.5s\n",
      "[Parallel(n_jobs=4)]: Done 150 out of 150 | elapsed:   19.7s finished\n",
      "09-02-2023 22:12:14 INFO: Step to 4\n",
      "09-02-2023 22:12:14 INFO: Round 3, ESS 112, Epsilon 213.6817, Acceptance 78.0%\n",
      "[Parallel(n_jobs=4)]: Using backend LokyBackend with 4 concurrent workers.\n",
      "[Parallel(n_jobs=4)]: Done  10 tasks      | elapsed:    1.5s\n",
      "[Parallel(n_jobs=4)]: Done  64 tasks      | elapsed:    8.2s\n",
      "[Parallel(n_jobs=4)]: Done 150 out of 150 | elapsed:   19.0s finished\n",
      "09-02-2023 22:12:34 INFO: Step to 5\n",
      "09-02-2023 22:12:34 INFO: Round 4, ESS 102, Epsilon 159.5022, Acceptance 75.3%\n",
      "[Parallel(n_jobs=4)]: Using backend LokyBackend with 4 concurrent workers.\n",
      "[Parallel(n_jobs=4)]: Done  10 tasks      | elapsed:    1.7s\n",
      "[Parallel(n_jobs=4)]: Done  64 tasks      | elapsed:    8.3s\n",
      "[Parallel(n_jobs=4)]: Done 150 out of 150 | elapsed:   19.3s finished\n",
      "09-02-2023 22:12:54 INFO: Step to 6\n",
      "09-02-2023 22:12:54 INFO: Round 5, ESS 94, Epsilon 80.8385, Acceptance 75.3%\n",
      "[Parallel(n_jobs=4)]: Using backend LokyBackend with 4 concurrent workers.\n",
      "[Parallel(n_jobs=4)]: Done  10 tasks      | elapsed:    1.6s\n",
      "[Parallel(n_jobs=4)]: Done  64 tasks      | elapsed:    9.2s\n",
      "[Parallel(n_jobs=4)]: Done 150 out of 150 | elapsed:   23.0s finished\n",
      "09-02-2023 22:13:18 INFO: Step to 7\n",
      "09-02-2023 22:13:18 INFO: Round 6, ESS 150, Epsilon 46.5440, Acceptance 88.7%\n",
      "[Parallel(n_jobs=4)]: Using backend LokyBackend with 4 concurrent workers.\n",
      "[Parallel(n_jobs=4)]: Done  10 tasks      | elapsed:    1.9s\n",
      "[Parallel(n_jobs=4)]: Done  64 tasks      | elapsed:    9.6s\n",
      "[Parallel(n_jobs=4)]: Done 150 out of 150 | elapsed:   21.7s finished\n",
      "09-02-2023 22:13:41 INFO: Step to 8\n",
      "09-02-2023 22:13:41 INFO: Round 7, ESS 135, Epsilon 28.5110, Acceptance 80.7%\n",
      "[Parallel(n_jobs=4)]: Using backend LokyBackend with 4 concurrent workers.\n",
      "[Parallel(n_jobs=4)]: Done  10 tasks      | elapsed:    2.2s\n",
      "[Parallel(n_jobs=4)]: Done  64 tasks      | elapsed:   12.3s\n",
      "[Parallel(n_jobs=4)]: Done 150 out of 150 | elapsed:   25.5s finished\n",
      "09-02-2023 22:14:07 INFO: Step to 9\n",
      "09-02-2023 22:14:07 INFO: Round 8, ESS 121, Epsilon 18.0000, Acceptance 74.7%\n",
      "[Parallel(n_jobs=4)]: Using backend LokyBackend with 4 concurrent workers.\n",
      "[Parallel(n_jobs=4)]: Done  10 tasks      | elapsed:    2.1s\n",
      "[Parallel(n_jobs=4)]: Done  64 tasks      | elapsed:   10.0s\n",
      "[Parallel(n_jobs=4)]: Done 150 out of 150 | elapsed:   22.8s finished\n",
      "09-02-2023 22:14:31 INFO: Step to 10\n",
      "09-02-2023 22:14:31 INFO: Round 9, ESS 111, Epsilon 18.0000, Acceptance 70.7%\n",
      "[Parallel(n_jobs=4)]: Using backend LokyBackend with 4 concurrent workers.\n",
      "[Parallel(n_jobs=4)]: Done  10 tasks      | elapsed:    1.8s\n",
      "[Parallel(n_jobs=4)]: Done  64 tasks      | elapsed:    9.8s\n",
      "[Parallel(n_jobs=4)]: Done 150 out of 150 | elapsed:   23.4s finished\n",
      "09-02-2023 22:14:55 INFO: Step to 11\n",
      "09-02-2023 22:14:55 INFO: Round 10, ESS 98, Epsilon 17.9999, Acceptance 61.3%\n",
      "[Parallel(n_jobs=4)]: Using backend LokyBackend with 4 concurrent workers.\n",
      "[Parallel(n_jobs=4)]: Done  10 tasks      | elapsed:    1.8s\n",
      "[Parallel(n_jobs=4)]: Done  64 tasks      | elapsed:    9.7s\n",
      "[Parallel(n_jobs=4)]: Done 150 out of 150 | elapsed:   22.0s finished\n",
      "09-02-2023 22:15:18 INFO: Step to 12\n",
      "09-02-2023 22:15:18 INFO: Round 11, ESS 150, Epsilon 17.9997, Acceptance 76.7%\n",
      "[Parallel(n_jobs=4)]: Using backend LokyBackend with 4 concurrent workers.\n",
      "[Parallel(n_jobs=4)]: Done  10 tasks      | elapsed:    1.7s\n",
      "[Parallel(n_jobs=4)]: Done  64 tasks      | elapsed:    9.6s\n",
      "[Parallel(n_jobs=4)]: Done 150 out of 150 | elapsed:   23.8s finished\n",
      "09-02-2023 22:15:43 INFO: Step to 13\n",
      "09-02-2023 22:15:43 INFO: Round 12, ESS 135, Epsilon 17.9973, Acceptance 68.7%\n",
      "[Parallel(n_jobs=4)]: Using backend LokyBackend with 4 concurrent workers.\n",
      "[Parallel(n_jobs=4)]: Done  10 tasks      | elapsed:    1.7s\n",
      "[Parallel(n_jobs=4)]: Done  64 tasks      | elapsed:    8.5s\n",
      "[Parallel(n_jobs=4)]: Done 150 out of 150 | elapsed:   19.8s finished\n",
      "09-02-2023 22:16:03 INFO: Step to 14\n",
      "09-02-2023 22:16:03 INFO: Round 13, ESS 123, Epsilon 17.9447, Acceptance 60.7%\n",
      "[Parallel(n_jobs=4)]: Using backend LokyBackend with 4 concurrent workers.\n",
      "[Parallel(n_jobs=4)]: Done  10 tasks      | elapsed:    1.5s\n",
      "[Parallel(n_jobs=4)]: Done  64 tasks      | elapsed:    8.7s\n",
      "[Parallel(n_jobs=4)]: Done 150 out of 150 | elapsed:   20.0s finished\n",
      "09-02-2023 22:16:24 INFO: Step to 15\n",
      "09-02-2023 22:16:24 INFO: Round 14, ESS 111, Epsilon 16.3704, Acceptance 56.0%\n",
      "[Parallel(n_jobs=4)]: Using backend LokyBackend with 4 concurrent workers.\n",
      "[Parallel(n_jobs=4)]: Done  10 tasks      | elapsed:    1.6s\n",
      "[Parallel(n_jobs=4)]: Done  64 tasks      | elapsed:    8.7s\n",
      "[Parallel(n_jobs=4)]: Done 150 out of 150 | elapsed:   19.9s finished\n",
      "09-02-2023 22:16:45 INFO: Step to 16\n",
      "09-02-2023 22:16:45 INFO: Round 15, ESS 99, Epsilon 13.2368, Acceptance 52.0%\n",
      "[Parallel(n_jobs=4)]: Using backend LokyBackend with 4 concurrent workers.\n",
      "[Parallel(n_jobs=4)]: Done  10 tasks      | elapsed:    1.6s\n",
      "[Parallel(n_jobs=4)]: Done  64 tasks      | elapsed:    8.8s\n",
      "[Parallel(n_jobs=4)]: Done 150 out of 150 | elapsed:   19.8s finished\n",
      "09-02-2023 22:17:05 INFO: Step to 17\n",
      "09-02-2023 22:17:05 INFO: Round 16, ESS 150, Epsilon 10.5250, Acceptance 64.0%\n",
      "[Parallel(n_jobs=4)]: Using backend LokyBackend with 4 concurrent workers.\n",
      "[Parallel(n_jobs=4)]: Done  10 tasks      | elapsed:    1.6s\n",
      "[Parallel(n_jobs=4)]: Done  64 tasks      | elapsed:    8.4s\n",
      "[Parallel(n_jobs=4)]: Done 150 out of 150 | elapsed:   19.6s finished\n",
      "09-02-2023 22:17:25 INFO: Step to 18\n",
      "09-02-2023 22:17:25 INFO: Round 17, ESS 135, Epsilon 8.3272, Acceptance 60.0%\n",
      "[Parallel(n_jobs=4)]: Using backend LokyBackend with 4 concurrent workers.\n",
      "[Parallel(n_jobs=4)]: Done  10 tasks      | elapsed:    1.6s\n",
      "[Parallel(n_jobs=4)]: Done  64 tasks      | elapsed:    8.3s\n",
      "[Parallel(n_jobs=4)]: Done 150 out of 150 | elapsed:   18.8s finished\n",
      "09-02-2023 22:17:45 INFO: Step to 19\n",
      "09-02-2023 22:17:45 INFO: Round 18, ESS 120, Epsilon 6.7118, Acceptance 62.7%\n",
      "[Parallel(n_jobs=4)]: Using backend LokyBackend with 4 concurrent workers.\n",
      "[Parallel(n_jobs=4)]: Done  10 tasks      | elapsed:    1.5s\n",
      "[Parallel(n_jobs=4)]: Done  64 tasks      | elapsed:    8.3s\n",
      "[Parallel(n_jobs=4)]: Done 150 out of 150 | elapsed:   21.1s finished\n",
      "09-02-2023 22:18:07 INFO: Step to 20\n",
      "09-02-2023 22:18:07 INFO: Round 19, ESS 109, Epsilon 5.3770, Acceptance 52.0%\n",
      "[Parallel(n_jobs=4)]: Using backend LokyBackend with 4 concurrent workers.\n",
      "[Parallel(n_jobs=4)]: Done  10 tasks      | elapsed:    1.9s\n",
      "[Parallel(n_jobs=4)]: Done  64 tasks      | elapsed:    9.4s\n",
      "[Parallel(n_jobs=4)]: Done 150 out of 150 | elapsed:   21.6s finished\n",
      "09-02-2023 22:18:29 INFO: Step to 21\n",
      "09-02-2023 22:18:29 INFO: Round 20, ESS 96, Epsilon 4.5180, Acceptance 55.3%\n",
      "[Parallel(n_jobs=4)]: Using backend LokyBackend with 4 concurrent workers.\n",
      "[Parallel(n_jobs=4)]: Done  10 tasks      | elapsed:    1.9s\n",
      "[Parallel(n_jobs=4)]: Done  64 tasks      | elapsed:   10.1s\n"
     ]
    },
    {
     "name": "stderr",
     "output_type": "stream",
     "text": [
      "[Parallel(n_jobs=4)]: Done 150 out of 150 | elapsed:   23.0s finished\n",
      "09-02-2023 22:18:53 INFO: Step to 22\n",
      "09-02-2023 22:18:53 INFO: Round 21, ESS 150, Epsilon 3.8009, Acceptance 52.0%\n",
      "[Parallel(n_jobs=4)]: Using backend LokyBackend with 4 concurrent workers.\n",
      "[Parallel(n_jobs=4)]: Done  10 tasks      | elapsed:    1.7s\n",
      "[Parallel(n_jobs=4)]: Done  64 tasks      | elapsed:    9.5s\n",
      "[Parallel(n_jobs=4)]: Done 150 out of 150 | elapsed:   21.7s finished\n",
      "09-02-2023 22:19:16 INFO: Step to 23\n",
      "09-02-2023 22:19:16 INFO: Round 22, ESS 135, Epsilon 3.0272, Acceptance 50.7%\n",
      "[Parallel(n_jobs=4)]: Using backend LokyBackend with 4 concurrent workers.\n",
      "[Parallel(n_jobs=4)]: Done  10 tasks      | elapsed:    1.8s\n",
      "[Parallel(n_jobs=4)]: Done  64 tasks      | elapsed:    9.5s\n",
      "[Parallel(n_jobs=4)]: Done 150 out of 150 | elapsed:   21.6s finished\n",
      "09-02-2023 22:19:38 INFO: Step to 24\n",
      "09-02-2023 22:19:38 INFO: Round 23, ESS 123, Epsilon 2.4631, Acceptance 44.0%\n",
      "[Parallel(n_jobs=4)]: Using backend LokyBackend with 4 concurrent workers.\n",
      "[Parallel(n_jobs=4)]: Done  10 tasks      | elapsed:    1.8s\n",
      "[Parallel(n_jobs=4)]: Done  64 tasks      | elapsed:    9.4s\n",
      "[Parallel(n_jobs=4)]: Done 150 out of 150 | elapsed:   21.7s finished\n",
      "09-02-2023 22:20:01 INFO: Step to 25\n",
      "09-02-2023 22:20:01 INFO: Round 24, ESS 110, Epsilon 1.9050, Acceptance 44.7%\n",
      "[Parallel(n_jobs=4)]: Using backend LokyBackend with 4 concurrent workers.\n",
      "[Parallel(n_jobs=4)]: Done  10 tasks      | elapsed:    1.8s\n",
      "[Parallel(n_jobs=4)]: Done  64 tasks      | elapsed:    9.4s\n",
      "[Parallel(n_jobs=4)]: Done 150 out of 150 | elapsed:   21.5s finished\n",
      "09-02-2023 22:20:23 INFO: Step to 26\n",
      "09-02-2023 22:20:23 INFO: Round 25, ESS 98, Epsilon 1.5243, Acceptance 43.3%\n",
      "09-02-2023 22:20:23 INFO: Collecting posteriors\n"
     ]
    }
   ],
   "source": [
    "alg.fit(obj)"
   ]
  },
  {
   "cell_type": "code",
   "execution_count": 9,
   "id": "460ba28d",
   "metadata": {},
   "outputs": [],
   "source": [
    "post = [obj.simulate(p) for p in alg.Collector.ParameterList]"
   ]
  },
  {
   "cell_type": "code",
   "execution_count": 10,
   "id": "9c9a8c28",
   "metadata": {},
   "outputs": [],
   "source": [
    "pss = pd.DataFrame([dict(p) for p in alg.Collector.ParameterList])\n",
    "pss.to_csv(f'{out_folder}/Post.csv')"
   ]
  },
  {
   "cell_type": "code",
   "execution_count": 11,
   "id": "e4c4870a",
   "metadata": {},
   "outputs": [],
   "source": [
    "mss = pd.concat([ms.assign(Key = i) for i, (_, ms, _) in enumerate(post)])\n",
    "mss.to_csv(f'{out_folder}/RunPost.csv')"
   ]
  },
  {
   "cell_type": "code",
   "execution_count": null,
   "id": "0d13b298",
   "metadata": {},
   "outputs": [],
   "source": []
  }
 ],
 "metadata": {
  "kernelspec": {
   "display_name": "Python 3 (ipykernel)",
   "language": "python",
   "name": "python3"
  },
  "language_info": {
   "codemirror_mode": {
    "name": "ipython",
    "version": 3
   },
   "file_extension": ".py",
   "mimetype": "text/x-python",
   "name": "python",
   "nbconvert_exporter": "python",
   "pygments_lexer": "ipython3",
   "version": "3.9.5"
  }
 },
 "nbformat": 4,
 "nbformat_minor": 5
}
